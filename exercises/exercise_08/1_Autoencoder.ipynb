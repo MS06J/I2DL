{
 "cells": [
  {
   "attachments": {},
   "cell_type": "markdown",
   "metadata": {
    "id": "9CALuVmNMNkM"
   },
   "source": [
    "# Autoencoder for MNIST\n",
    "\n",
    "Welcome to this notebook where you'll be training an autoencoder using the MNIST dataset, which comprises handwritten digits. This exercise is the last where we present you with a structured skeleton to work with. However, in following exercises, we will only provide you with the dataset, task, and a test scenario, enabling you to test your skills and compete with your peers on our leaderboards. Get ready to dive in and showcase your deep learning expertise!\n",
    "\n",
    "\n",
    "## Your task:\n",
    "\n",
    "Autoencoders have various applications, including unsupervised pretraining using unlabeled data, followed by fine-tuning the encoder with labeled data. This approach can greatly enhance performance when there is only a little amount of labeled data but a lot of unlabeled data available.\n",
    "\n",
    "In this exercise, you will use the MNIST dataset, consisting of 60,000 images of handwritten digits. However, not all the image labels are available to you. Your first objective is to train an autoencoder to accurately reproduce these unlabeled images.\n",
    "\n",
    "Afterwards, you will transfer the weights of the pretrained encoder and perform fine-tuning on a classifier using the available labeled data. This technique is commonly known as **transfer learning**, which allows you to leverage the knowledge gained from the autoencoder to improve the classification of the handwritten digits."
   ]
  },
  {
   "cell_type": "code",
   "execution_count": 1,
   "metadata": {
    "id": "XcU9f4APMNkT"
   },
   "outputs": [],
   "source": [
    "# For automatic file reloading as usual\n",
    "%load_ext autoreload\n",
    "%autoreload 2\n",
    "%matplotlib inline"
   ]
  },
  {
   "attachments": {},
   "cell_type": "markdown",
   "metadata": {
    "id": "Xb9dFU2EMNkW"
   },
   "source": [
    "## (Optional) Mount folder in Colab\n",
    "\n",
    "Uncomment the following cell to mount your gdrive if you are using the notebook in google colab:"
   ]
  },
  {
   "cell_type": "code",
   "execution_count": 2,
   "metadata": {
    "id": "TRr4E4YVMNkW"
   },
   "outputs": [
    {
     "data": {
      "text/plain": [
       "\"\\nfrom google.colab import drive\\nimport os\\ngdrive_path='/content/gdrive/MyDrive/i2dl/exercise_08'\\n\\n# This will mount your google drive under 'MyDrive'\\ndrive.mount('/content/gdrive', force_remount=True)\\n# In order to access the files in this notebook we have to navigate to the correct folder\\nos.chdir(gdrive_path)\\n# Check manually if all files are present\\n\""
      ]
     },
     "execution_count": 2,
     "metadata": {},
     "output_type": "execute_result"
    }
   ],
   "source": [
    "# Use the following lines if you want to use Google Colab\n",
    "# We presume you created a folder \"i2dl\" within your main drive folder, and put the exercise there.\n",
    "# NOTE: terminate all other colab sessions that use GPU!\n",
    "# NOTE 2: Make sure the correct exercise folder (e.g exercise_08) is given.\n",
    "\n",
    "# from google.colab import drive\n",
    "# import os\n",
    "\n",
    "\"\"\"\n",
    "from google.colab import drive\n",
    "import os\n",
    "gdrive_path='/content/gdrive/MyDrive/i2dl/exercise_08'\n",
    "\n",
    "# This will mount your google drive under 'MyDrive'\n",
    "drive.mount('/content/gdrive', force_remount=True)\n",
    "# In order to access the files in this notebook we have to navigate to the correct folder\n",
    "os.chdir(gdrive_path)\n",
    "# Check manually if all files are present\n",
    "\"\"\""
   ]
  },
  {
   "attachments": {},
   "cell_type": "markdown",
   "metadata": {
    "id": "JzDQg-kDMNkY"
   },
   "source": [
    "### Set up PyTorch environment in colab\n",
    "- Enable GPU via Runtime --> Change runtime type --> GPU\n"
   ]
  },
  {
   "attachments": {},
   "cell_type": "markdown",
   "metadata": {
    "id": "hEDWAZ7-ZA4E"
   },
   "source": [
    "# Imports"
   ]
  },
  {
   "cell_type": "code",
   "execution_count": 3,
   "metadata": {
    "id": "dJCiVLV5o9QO"
   },
   "outputs": [],
   "source": [
    "import numpy as np\n",
    "import matplotlib.pyplot as plt\n",
    "from pathlib import Path\n",
    "import os, sys\n",
    "import shutil\n",
    "import torch\n",
    "import torch.nn as nn\n",
    "from torchvision import transforms\n",
    "from exercise_code.image_folder_dataset import ImageFolderDataset\n",
    "from torch.utils.tensorboard import SummaryWriter\n",
    "from time import sleep\n",
    "from tqdm import tqdm\n",
    "from exercise_code.tests.base_tests import bcolors\n",
    "\n",
    "torch.manual_seed(42)\n",
    "\n",
    "os.environ['KMP_DUPLICATE_LIB_OK']='True' # To prevent the kernel from dying."
   ]
  },
  {
   "attachments": {},
   "cell_type": "markdown",
   "metadata": {
    "id": "dvaj6myXS7nN"
   },
   "source": [
    "<div class=\"alert alert-warning\">\n",
    "    <h3>Note: Google Colab</h3>\n",
    "    <p>\n",
    "In case you don't have a GPU, you can run this notebook on Google Colab where you can access a GPU for free, but, of course, you can also run this notebook on your CPU.\n",
    "         </p>\n",
    "</div>"
   ]
  },
  {
   "cell_type": "code",
   "execution_count": 4,
   "metadata": {
    "id": "VWgm75NnS9hr"
   },
   "outputs": [
    {
     "name": "stdout",
     "output_type": "stream",
     "text": [
      "You are using the following device:  cpu\n"
     ]
    }
   ],
   "source": [
    "device = torch.device(\"cuda\" if torch.cuda.is_available() else \"cpu\")\n",
    "print('You are using the following device: ', device)"
   ]
  },
  {
   "attachments": {},
   "cell_type": "markdown",
   "metadata": {
    "id": "Pm_rTAPnpsUo"
   },
   "source": [
    "## Setup TensorBoard\n",
    "\n",
    "In the previous exercise (Exercise 07), you learned how to use TensorBoard effectively. Let's use it again to enhance the convenience of debugging your network and the training process. Throughout this notebook, feel free to implement additional logs or visualizations into your TensorBoard, further improving your analysis and understanding of the network's behavior. "
   ]
  },
  {
   "cell_type": "code",
   "execution_count": 5,
   "metadata": {
    "id": "QbAJFyHkMNke"
   },
   "outputs": [],
   "source": [
    "################# COLAB ONLY #################\n",
    "# %load_ext tensorboard\n",
    "# %tensorboard --logdir=./ --port 6006\n",
    "\n",
    "# Use the cmd for less trouble, if you can. From the working directory, run: tensorboard --logdir=./ --port 6006"
   ]
  },
  {
   "attachments": {},
   "cell_type": "markdown",
   "metadata": {
    "id": "t-Yt2KRiMNkf"
   },
   "source": [
    "# 1. The MNIST Dataset\n",
    "\n",
    "First, let's download the MNIST dataset. As mentioned at the beginning of this notebook, MNIST is a dataset of 60,000 images depicting handwritten digits. However, labeling such a large dataset can be a costly process, leaving us in a challenging situation.\n",
    "\n",
    "To overcome this, a practical approach is to label a small subset of the images. Let's consider a scenario where you have hired another student to perform the labeling task for you. After some time, you have been provided with 300 labeled images. Out of these, 100 images will be used for training, another 100 for validation, and the remaining 100 for testing. Undoubtedly, this poses a challenge due to the limited number of labeled samples.\n",
    "\n",
    "Now, you have the flexibility to define any transforms that you deem necessary, either at this point or at a later stage. However, it's important to note that during the final evaluation on the server, no transformations will be applied to the test set.\n",
    "\n",
    "Feel free to experiment with various transforms as you proceed (you can also pass without any transforms). \n",
    "\n",
    "\n",
    "**Note**: We do **not** apply any transformations or normalization to the test set at the time of final evaluation on our server."
   ]
  },
  {
   "cell_type": "code",
   "execution_count": 6,
   "metadata": {
    "id": "U5_eopjbMNkf",
    "pycharm": {
     "name": "#%%\n"
    }
   },
   "outputs": [
    {
     "name": "stdout",
     "output_type": "stream",
     "text": [
      "Found dataset folder. Skipped downloading. If you face issues, please re-download the dataset using\n",
      "'--force_download=True'\n",
      "https://i2dl.vc.in.tum.de/static/data/mnist.zip\n",
      "Found dataset folder. Skipped downloading. If you face issues, please re-download the dataset using\n",
      "'--force_download=True'\n",
      "https://i2dl.vc.in.tum.de/static/data/mnist.zip\n",
      "Found dataset folder. Skipped downloading. If you face issues, please re-download the dataset using\n",
      "'--force_download=True'\n",
      "https://i2dl.vc.in.tum.de/static/data/mnist.zip\n",
      "Found dataset folder. Skipped downloading. If you face issues, please re-download the dataset using\n",
      "'--force_download=True'\n",
      "https://i2dl.vc.in.tum.de/static/data/mnist.zip\n",
      "Found dataset folder. Skipped downloading. If you face issues, please re-download the dataset using\n",
      "'--force_download=True'\n",
      "https://i2dl.vc.in.tum.de/static/data/mnist.zip\n"
     ]
    }
   ],
   "source": [
    "transform = transforms.Compose([])\n",
    "\n",
    "########################################################################\n",
    "# TODO: Feel free to define transforms (Only data augmentation)        #\n",
    "########################################################################\n",
    "\n",
    "pass\n",
    "\n",
    "########################################################################\n",
    "#                           END OF YOUR CODE                           #\n",
    "########################################################################\n",
    "\n",
    "i2dl_exercises_path = os.path.dirname(os.path.abspath(os.getcwd()))\n",
    "mnist_root = os.path.join(i2dl_exercises_path, \"datasets\", \"mnist\")\n",
    "\n",
    "train_100_dataset = ImageFolderDataset(root=mnist_root,images='train_images.pt',labels='train_labels.pt',force_download=False,verbose=True,transform=transform)\n",
    "val_100_dataset = ImageFolderDataset(root=mnist_root,images='val_images.pt',labels='val_labels.pt',force_download=False,verbose=True,transform=transform)\n",
    "test_100_dataset = ImageFolderDataset(root=mnist_root,images='test_images.pt',labels='test_labels.pt',force_download=False,verbose=True,transform=transform)\n",
    "\n",
    "# We also set up the unlabeled images which we will use later\n",
    "unlabeled_train = ImageFolderDataset(root=mnist_root,images='unlabeled_train_images.pt',force_download=False,verbose=True,transform=transform)\n",
    "unlabeled_val = ImageFolderDataset(root=mnist_root,images='unlabeled_val_images.pt',force_download=False,verbose=True,transform=transform)\n",
    "\n"
   ]
  },
  {
   "attachments": {},
   "cell_type": "markdown",
   "metadata": {
    "id": "zwrT1ckAMNkg"
   },
   "source": [
    "The dataset consists of tuples of 28x28 pixel PIL images and a label that is an integer from 0 to 9. \n",
    "\n",
    "Let's turn a few of the images into numpy arrays, to look at their shape and visualize them and see if the labels we paid for are correct."
   ]
  },
  {
   "cell_type": "code",
   "execution_count": 7,
   "metadata": {
    "id": "k7ct1J2CMNkh"
   },
   "outputs": [
    {
     "name": "stdout",
     "output_type": "stream",
     "text": [
      "The shape of our greyscale images:  (28, 28)\n"
     ]
    },
    {
     "data": {
      "image/png": "[encoded data removed]",
      "text/plain": [
       "<Figure size 1600x1600 with 10 Axes>"
      ]
     },
     "metadata": {},
     "output_type": "display_data"
    }
   ],
   "source": [
    "plt.rcParams['figure.figsize'] = (16,16) # Make the figures a bit bigger\n",
    "\n",
    "indices_arr = [83, 98, 92, 99, 78, 97, 90, 95, 93, 96]\n",
    "for i, index in enumerate(indices_arr):\n",
    "    image = np.array(train_100_dataset[index][0].squeeze()) # get the image of the data sample\n",
    "    label = train_100_dataset[index][1] # get the label of the data sample\n",
    "    plt.subplot(1, 10, i + 1)\n",
    "    plt.imshow(image, cmap='gray', interpolation='none')\n",
    "    plt.title(\"Class {}\".format(label))\n",
    "    \n",
    "plt.tight_layout()\n",
    "print('The shape of our greyscale images: ', image.shape)"
   ]
  },
  {
   "attachments": {},
   "cell_type": "markdown",
   "metadata": {
    "id": "V9sz_lHyqJoj"
   },
   "source": [
    "<div class=\"alert alert-warning\">\n",
    "    <h3>Note: Starting Simple</h3>\n",
    "    <p>\n",
    "Regardless of the size of the dataset, the first step is to evaluate the performance of a simple classifier. It is advisable to always start with a straightforward approach when tackling a problem and gradually build upon it to determine which changes yield improvements.</p>\n",
    "</div>\n",
    "\n",
    "# 2. A Simple Classifier\n",
    "\n",
    "In `exercise_code/models.py`, we prepared all classes for you, which you will finalize throughout the notebook to build an Autoencoder and an image classifier with PyTorch.\n",
    "\n",
    "<!-- In case image does not show, uncomment the following:\n",
    " ![network_split](img/network_split.png) \n",
    " -->\n",
    "<img name=\"network_split\" src=\"https://i2dl.vc.in.tum.de/static/images/exercise_08/network_split.png\">\n",
    "\n",
    "\n",
    "## 2.1 The Encoder\n",
    "\n",
    "Unlike previous models, we are going to split up the model into two parts: the `encoder` and the `classifier`. The `classifier` has a fixed task, generating predictions given a one-dimensional input. On the other hand, the `encoder`'s task is to extract meaningful information from the input, enabling the classifier to make accurate decisions. \n",
    "\n",
    "For now, both networks will be similar in design and consist of linear layers coupled with auxiliary layers. This split-up will be relevant later, e.g., by using convolutional layers, which are introduced in the lecture. We are going to set up the `encoder` now. \n",
    "\n",
    "Think about a good network architecture. You have complete freedom in this regard and can devise any network structure you think might be fitting. (\\*)\n",
    "\n",
    "Have a look at the documentation of `torch.nn` at https://pytorch.org/docs/stable/nn.html to learn how to use this module in order to build your network!\n",
    "\n",
    "Then implement your architecture: initialize it in `__init__()` and assign it to `self.model`. This is particularly easy using `nn.Sequential()`, where you only have to pass the list of your layers. \n",
    "\n",
    "To make your model customizable and support parameter search, do not use hardcoded hyperparameters - instead, pass them as a simple dictionary `hparams` (here, `n_hidden` is the number of neurons in the hidden layer) when initializing `models`.\n",
    "\n",
    "Here is a simple example:\n",
    "\n",
    "```python\n",
    "        self.model = nn.Sequential(\n",
    "            nn.Linear(input_size, self.hparams[\"n_hidden\"]),\n",
    "            nn.ReLU(),            \n",
    "            nn.Linear(self.hparams[\"n_hidden\"], num_classes)\n",
    "        )\n",
    "```\n",
    "\n",
    "Have a look at the forward path in `forward(self, x)`, which is so easy that you don't need to implement it yourself.\n",
    "\n",
    "As PyTorch automatically computes the gradients, that's all you need to do! There is no need to manually calculate derivatives for the backward paths anymore! :)\n",
    "\n",
    "\n",
    "____\n",
    "\\* *The size of your final model must be less than 20 MB, which is approximately equivalent to 5 Mio. params. Note that this limit is quite lenient, you will probably need much fewer parameters!*\n",
    "\n",
    "*In order to keep things simple, you should only use fully connected layers for this task, as we need to revert the encoder architecture later on in the notebook.*\n",
    "\n",
    "<div class=\"alert alert-info\">\n",
    "    <h3>Task: Implement</h3>\n",
    "    <p>Implement the <code>Encoder</code> class initialization in <code>exercise_code/models.py</code>.\n",
    "    </p>\n",
    "</div>\n",
    "\n",
    "\n"
   ]
  },
  {
   "attachments": {},
   "cell_type": "markdown",
   "metadata": {
    "id": "jNf7FrvwMNki"
   },
   "source": [
    "## 2.2 The Classifier\n",
    "\n",
    "Now let's implement the classifier. The classifier will utilize the encoder that you have defined in the above cell. By looking at `Classifier.forward`, you can see that we are essentially concatenating the `classifier`and the `encoder` together. Therefore, it is crucial to ensure that the input shape of the classifier matches the output shape of the encoder you implemented above\n",
    "\n",
    "<div class=\"alert alert-info\">\n",
    "    <h3>Task: Implement</h3>\n",
    "    <p>1. Implement the <code>Classifier</code> class network initialization in <code>exercise_code/models.py</code>.\n",
    "    </p>\n",
    "    <p>2. Define in the next cell your hyperparameters in a dictionary called 'hparams'.\n",
    "    </p>\n",
    "</div>"
   ]
  },
  {
   "cell_type": "code",
   "execution_count": 8,
   "metadata": {
    "id": "AawbvD1rMNkj"
   },
   "outputs": [],
   "source": [
    "hparams = {}\n",
    "########################################################################\n",
    "# TODO: Define your hyper parameters here!                             #\n",
    "########################################################################\n",
    "\n",
    "hparams['batch_size'] = 200\n",
    "\n",
    "hparams['encoder_n_hidden'] = 128\n",
    "hparams['classifier_n_hidden'] = 128\n",
    "hparams['encoder_lr'] = 0.001\n",
    "hparams['classifier_lr'] = 0.001\n",
    "\n",
    "########################################################################\n",
    "#                           END OF YOUR CODE                           #\n",
    "########################################################################"
   ]
  },
  {
   "attachments": {},
   "cell_type": "markdown",
   "metadata": {
    "id": "bOYbUg8lAmgU"
   },
   "source": [
    "\n",
    "## 2.3 Optimizer\n",
    "Lastly, implement the function `set_optimizer` to define your optimizer. Here the documentation of `torch.optim` at https://pytorch.org/docs/stable/optim.html might be helpful.\n",
    "\n",
    "<div class=\"alert alert-info\">\n",
    "    <h3>Task: Implement</h3>\n",
    "    <p>Implement the <code>set_optimizer</code> method of the <code>Classifier</code> in <code>exercise_code/models.py</code>.\n",
    "    </p>\n",
    "</div>\n"
   ]
  },
  {
   "attachments": {},
   "cell_type": "markdown",
   "metadata": {
    "id": "xrUfa-a7MNkk"
   },
   "source": [
    "## 2.4 Training & Validation Step\n",
    "\n",
    "<div class=\"alert alert-success\">\n",
    "    <h3>Task: Check Code</h3>\n",
    "    <p> Let's take a closer look at the training pipeline outlined below. It is explicitly written here in its entirety to provide you with a comprehensive understanding of its structure. Additionally, you can refer back to this pipeline whenever you encounter any uncertainties or need guidance.\n",
    " </p>\n",
    "</div>\n"
   ]
  },
  {
   "cell_type": "code",
   "execution_count": 9,
   "metadata": {
    "id": "NY_lLaNWMNkk"
   },
   "outputs": [],
   "source": [
    " # One of the most crucial things in deep learning is to understand the training pipeline:\n",
    " # 1. Forward()          --> The forward pass of the network, to calculate the currnent loss.\n",
    " # 2. Backward()         --> The backward pass of the network, to calculate the gradients w.r.t the loss, calculated in the previous stage.\n",
    " # 3. Optimizer_step()   --> Update the weights w.r.t their corresponding gradients and the learnign rate.\n",
    "\n",
    "def create_tqdm_bar(iterable, desc):\n",
    "    return tqdm(enumerate(iterable),total=len(iterable), ncols=150, desc=desc)\n",
    "\n",
    "\n",
    "def train_classifier(classifier, train_loader, val_loader, loss_func, tb_logger, epochs=10, name=\"default\"):\n",
    "    \"\"\"\n",
    "    Train the classifier for a number of epochs.\n",
    "    \"\"\"\n",
    "    optimizer = classifier.optimizer\n",
    "    classifier = classifier.to(device)\n",
    "    validation_loss = 0\n",
    "    for epoch in range(epochs):\n",
    "        \n",
    "        training_loss = 0\n",
    "        \n",
    "        # Training stage, where we want to update the parameters.\n",
    "        classifier.train()  # Set the model to training mode\n",
    "        \n",
    "        # Create a progress bar for the training loop.\n",
    "        training_loop = create_tqdm_bar(train_loader, desc=f'Training Epoch [{epoch + 1}/{epochs}]')\n",
    "        for train_iteration, batch in training_loop:\n",
    "            optimizer.zero_grad() # Reset the gradients - VERY important! Otherwise they accumulate.\n",
    "            images, labels = batch # Get the images and labels from the batch, in the fashion we defined in the dataset and dataloader.\n",
    "            images, labels = images.to(device), labels.to(device) # Send the data to the device (GPU or CPU) - it has to be the same device as the model.\n",
    "\n",
    "            # Flatten the images to a vector. This is done because the classifier expects a vector as input.\n",
    "            # Could also be done by reshaping the images in the dataset.\n",
    "            images = images.view(images.shape[0], -1) \n",
    "\n",
    "            pred = classifier(images) # Stage 1: Forward().\n",
    "            loss = loss_func(pred, labels) # Compute the loss over the predictions and the ground truth.\n",
    "            loss.backward()  # Stage 2: Backward().\n",
    "            optimizer.step() # Stage 3: Update the parameters.\n",
    "\n",
    "            training_loss += loss.item()\n",
    "\n",
    "            # Update the progress bar.\n",
    "            training_loop.set_postfix(curr_train_loss = \"{:.8f}\".format(training_loss / (train_iteration + 1)), val_loss = \"{:.8f}\".format(validation_loss))\n",
    "\n",
    "            # Update the tensorboard logger.\n",
    "            tb_logger.add_scalar(f'classifier_{name}/train_loss', loss.item(), epoch * len(train_loader) + train_iteration)\n",
    "            sleep(0.1) # Remove this line if you want to see the progress bar faster.\n",
    "\n",
    "        # Validation stage, where we don't want to update the parameters. Pay attention to the classifier.eval() line\n",
    "        # and \"with torch.no_grad()\" wrapper.\n",
    "        classifier.eval()\n",
    "        val_loop = create_tqdm_bar(val_loader, desc=f'Validation Epoch [{epoch + 1}/{epochs}]')\n",
    "        validation_loss = 0\n",
    "        with torch.no_grad():\n",
    "            for val_iteration, batch in val_loop:\n",
    "                images, labels = batch\n",
    "                images, labels = images.to(device), labels.to(device)\n",
    "\n",
    "                images = images.view(images.shape[0], -1) \n",
    "                pred = classifier(images)\n",
    "                loss = loss_func(pred, labels)\n",
    "                validation_loss += loss.item()\n",
    "\n",
    "                # Update the progress bar.\n",
    "                val_loop.set_postfix(val_loss = \"{:.8f}\".format(validation_loss / (val_iteration + 1)))\n",
    "\n",
    "                # Update the tensorboard logger.\n",
    "                tb_logger.add_scalar(f'classifier_{name}/val_loss', loss.item(), epoch * len(val_loader) + val_iteration)\n",
    "                sleep(0.1) # Remove this line if you want to see the progress bar faster.\n",
    "        \n",
    "        # This value is used for the progress bar of the training loop.\n",
    "        validation_loss /= len(val_loader)\n",
    "            "
   ]
  },
  {
   "attachments": {},
   "cell_type": "markdown",
   "metadata": {
    "id": "KVKLlwlyMNkl"
   },
   "source": [
    "## 2.5 Fit Classification Model with Trainer\n",
    "Now it's finally time to train your model.\n",
    "Run the following cell to see the behold the magic of deep learning at play."
   ]
  },
  {
   "cell_type": "code",
   "execution_count": 10,
   "metadata": {
    "id": "uBGavq9cMNkl"
   },
   "outputs": [
    {
     "name": "stderr",
     "output_type": "stream",
     "text": [
      "Training Epoch [1/10]: 100%|███████████████████████████████████████████| 1/1 [00:00<00:00,  8.15it/s, curr_train_loss=2.30678749, val_loss=0.00000000]\n",
      "Validation Epoch [1/10]: 100%|█████████████████████████████████████████████████████████████████████| 1/1 [00:00<00:00,  9.34it/s, val_loss=2.29848123]\n",
      "Training Epoch [2/10]: 100%|███████████████████████████████████████████| 1/1 [00:00<00:00,  9.46it/s, curr_train_loss=2.29856682, val_loss=2.29848123]\n",
      "Validation Epoch [2/10]: 100%|█████████████████████████████████████████████████████████████████████| 1/1 [00:00<00:00,  9.51it/s, val_loss=2.29862881]\n",
      "Training Epoch [3/10]: 100%|███████████████████████████████████████████| 1/1 [00:00<00:00,  9.37it/s, curr_train_loss=2.29088521, val_loss=2.29862881]\n",
      "Validation Epoch [3/10]: 100%|█████████████████████████████████████████████████████████████████████| 1/1 [00:00<00:00,  9.50it/s, val_loss=2.29833269]\n",
      "Training Epoch [4/10]: 100%|███████████████████████████████████████████| 1/1 [00:00<00:00,  9.43it/s, curr_train_loss=2.28201675, val_loss=2.29833269]\n",
      "Validation Epoch [4/10]: 100%|█████████████████████████████████████████████████████████████████████| 1/1 [00:00<00:00,  9.32it/s, val_loss=2.29718471]\n",
      "Training Epoch [5/10]: 100%|███████████████████████████████████████████| 1/1 [00:00<00:00,  9.42it/s, curr_train_loss=2.27131796, val_loss=2.29718471]\n",
      "Validation Epoch [5/10]: 100%|█████████████████████████████████████████████████████████████████████| 1/1 [00:00<00:00,  9.34it/s, val_loss=2.29502201]\n",
      "Training Epoch [6/10]: 100%|███████████████████████████████████████████| 1/1 [00:00<00:00,  9.26it/s, curr_train_loss=2.25844765, val_loss=2.29502201]\n",
      "Validation Epoch [6/10]: 100%|█████████████████████████████████████████████████████████████████████| 1/1 [00:00<00:00,  9.32it/s, val_loss=2.29208922]\n",
      "Training Epoch [7/10]: 100%|███████████████████████████████████████████| 1/1 [00:00<00:00,  8.64it/s, curr_train_loss=2.24245954, val_loss=2.29208922]\n",
      "Validation Epoch [7/10]: 100%|█████████████████████████████████████████████████████████████████████| 1/1 [00:00<00:00,  8.98it/s, val_loss=2.28851676]\n",
      "Training Epoch [8/10]: 100%|███████████████████████████████████████████| 1/1 [00:00<00:00,  9.23it/s, curr_train_loss=2.22231746, val_loss=2.28851676]\n",
      "Validation Epoch [8/10]: 100%|█████████████████████████████████████████████████████████████████████| 1/1 [00:00<00:00,  9.61it/s, val_loss=2.28462338]\n",
      "Training Epoch [9/10]: 100%|███████████████████████████████████████████| 1/1 [00:00<00:00,  9.22it/s, curr_train_loss=2.19741368, val_loss=2.28462338]\n",
      "Validation Epoch [9/10]: 100%|█████████████████████████████████████████████████████████████████████| 1/1 [00:00<00:00,  9.32it/s, val_loss=2.28056049]\n",
      "Training Epoch [10/10]: 100%|██████████████████████████████████████████| 1/1 [00:00<00:00,  9.60it/s, curr_train_loss=2.16729975, val_loss=2.28056049]\n",
      "Validation Epoch [10/10]: 100%|████████████████████████████████████████████████████████████████████| 1/1 [00:00<00:00,  9.30it/s, val_loss=2.27607369]"
     ]
    },
    {
     "name": "stdout",
     "output_type": "stream",
     "text": [
      "Finished training!\n",
      "How did we do? Let's check the accuracy of the defaut classifier on the training and validation sets:\n",
      "Training Acc: 24.0%\n",
      "Validation Acc: 12.0%\n"
     ]
    },
    {
     "name": "stderr",
     "output_type": "stream",
     "text": [
      "\n"
     ]
    }
   ],
   "source": [
    "from exercise_code.models import Classifier\n",
    "from exercise_code.models import Encoder\n",
    "\n",
    "# Create the encoder and the classifier.\n",
    "encoder = Encoder(hparams).to(device)\n",
    "classifier = Classifier(hparams, encoder).to(device)\n",
    "\n",
    "# Create a tensorboard logger.\n",
    "# NOTE: In order to see the logs, run the following command in the terminal: tensorboard --logdir=./\n",
    "# Also, in order to reset the logs, delete the logs folder MANUALLY.\n",
    "\n",
    "path = os.path.join('logs', 'cls_logs')\n",
    "num_of_runs = len(os.listdir(path)) if os.path.exists(path) else 0\n",
    "path = os.path.join(path, f'run_{num_of_runs + 1}')\n",
    "\n",
    "tb_logger = SummaryWriter(path)\n",
    "\n",
    "# Train the classifier.\n",
    "labled_train_loader = torch.utils.data.DataLoader(train_100_dataset, batch_size=hparams['batch_size'], shuffle=True)\n",
    "labled_val_loader = torch.utils.data.DataLoader(val_100_dataset, batch_size=hparams['batch_size'], shuffle=False)\n",
    "\n",
    "epochs = hparams.get('epochs', 10)\n",
    "loss_func = nn.CrossEntropyLoss() # The loss function we use for classification.\n",
    "train_classifier(classifier, labled_train_loader, labled_val_loader, loss_func, tb_logger, epochs=epochs, name=\"Default\")\n",
    "\n",
    "print(\"Finished training!\")\n",
    "print(\"How did we do? Let's check the accuracy of the defaut classifier on the training and validation sets:\")\n",
    "print(f\"Training Acc: {classifier.getAcc(labled_train_loader)[1] * 100}%\")\n",
    "print(f\"Validation Acc: {classifier.getAcc(labled_val_loader)[1] * 100}%\")"
   ]
  },
  {
   "attachments": {},
   "cell_type": "markdown",
   "metadata": {
    "id": "i16vmHZXMNkm",
    "pycharm": {
     "name": "#%% md\n"
    }
   },
   "source": [
    "# 3. Autoencoder\n",
    "\n",
    "With only a limited number of labeled images, it's challenging to achieve high performance. We have no money left to pay the student to create more labels, and labeling the data ourselves is out of question. A commonly used approach would be to apply data augmentation to maximize the potential of our limited labeled data, but here we provide another way to solve this problem: **transfer learning**.\n",
    "\n",
    "For each input, the autoencoder tries to reproduce the same image as an output. The difficulty behind this task is that the autoencoder has to go through a low dimensional bottleneck, which is called the **latent space**.\n",
    "In other words, the autoencoder learns to represent all the input information in a low dimensional latent space - it learns to compress the input distribution. To train the autoencoder, we use the mean squared error loss, which calculates the discrepancy between the input pixels and the output pixels. The best part is that this loss function doesn't require any labels!\n",
    "\n",
    "By pretraining the autoencoder in this way on a large amount of unlabeled data, we can capture valuable latent representations of the input images. Then, we transfer the weights of the encoder to our classifier, enabling it to benefit from the knowledge learned during the unsupervised pretraining phase. \n",
    "\n",
    "<!-- In case the image does not show, uncomment the following:\n",
    "![autoencoder](img/autoencoder.png) \n",
    "-->\n",
    "<img name=\"autoencoder\" src=\"https://i2dl.vc.in.tum.de/static/images/exercise_08/autoencoder.png\">\n",
    "\n",
    "After this, our encoder has learned to extract meaningful information from the inputs. We can then transfer its weights\n",
    "to a classifier architecture and finetune it with our labeled data, i.e., instead of initializing our encoder randomly, we are re-using the weights of our trained encoder from our autoencoder network. \n",
    "\n",
    "<!-- In case the image does not show, uncomment the following:\n",
    "![autoencoder_pretrained](img/pretrained.png) \n",
    "-->\n",
    "<img name=\"autoencoder_pretrained\" src=\"https://i2dl.vc.in.tum.de/static/images/exercise_08/pretrained.png\">\n",
    "\n",
    "\n",
    "Before we can train our autoencoder, you have to initialize your `decoder` architecture. The simplest way is to mirror your encoder architecture, which ensures that the `latent space` output of our `encoder` is correctly transformed to our input shape.\n",
    "\n",
    "<div class=\"alert alert-info\">\n",
    "    <h3>Task: Implement</h3>\n",
    "    <p>Implement the <code>Decoder</code> class initialization in <code>exercise_code/models.py</code>.</p>\n",
    "    <p>Implement <code>forward</code>, <code>set_optimizer</code>, <code>training_step</code> and <code>validation_step</code> of the <code>Autoencoder</code> in  <code>exercise_code/models.py</code>, following the pipeline we've shown you in train_classifier().</p>\n",
    "    <p>Note the differences between the classification task and now the regression task!</p>\n",
    "\n",
    "\n",
    "</div>\n",
    "\n",
    "## 3.2 Autoencoder Training\n",
    "\n",
    "Now, we can train the full autoencoder consisting of both en- and decoder.\n",
    "\n",
    "\n"
   ]
  },
  {
   "cell_type": "code",
   "execution_count": 11,
   "metadata": {
    "id": "xqqdoLDgMNkm"
   },
   "outputs": [],
   "source": [
    "from exercise_code.models import Autoencoder, Encoder, Decoder\n",
    "\n",
    "########################################################################\n",
    "# TODO: Define your hyperparameters here!                              #\n",
    "# Hint: use a large batch_size                                         #\n",
    "########################################################################\n",
    "\n",
    "hparams['batch_size'] = 1000\n",
    "hparams['epochs'] = 200\n",
    "\n",
    "hparams['encoder_n_hidden'] = 128\n",
    "hparams['classifier_n_hidden'] = 128\n",
    "hparams['encoder_lr'] = 0.001\n",
    "hparams['classifier_lr'] = 0.001\n",
    "\n",
    "########################################################################\n",
    "#                           END OF YOUR CODE                           #\n",
    "########################################################################\n",
    "encoder_pretrained = Encoder(hparams).to(device)\n",
    "decoder = Decoder(hparams).to(device)\n",
    "autoencoder = Autoencoder(hparams, encoder_pretrained, decoder).to(device)"
   ]
  },
  {
   "attachments": {},
   "cell_type": "markdown",
   "metadata": {
    "id": "uRuIIm8YMNkn"
   },
   "source": [
    "Some tests to check whether we'll accept your model."
   ]
  },
  {
   "cell_type": "code",
   "execution_count": 12,
   "metadata": {
    "id": "SoAaC-NqMNkn"
   },
   "outputs": [
    {
     "name": "stdout",
     "output_type": "stream",
     "text": [
      "# Paramters: Your model has \u001b[92m0.24\u001b[0m mio. params.\n",
      "Model accepted!\n"
     ]
    }
   ],
   "source": [
    "from exercise_code.Util import printModelInfo, load_model\n",
    "_ = printModelInfo(autoencoder)"
   ]
  },
  {
   "attachments": {},
   "cell_type": "markdown",
   "metadata": {
    "id": "plQwnphtqggl"
   },
   "source": [
    "After implementing the relevant functions - read the following code, and then run it.\n",
    "Keep in mind that an epoch here will take much longer since\n",
    "we are iterating through 5,8600 images instead of just 100.\n",
    "\n",
    "For speed, colab is indeed recommended. "
   ]
  },
  {
   "cell_type": "code",
   "execution_count": 13,
   "metadata": {
    "id": "_uuzXMq6zjbb",
    "tags": []
   },
   "outputs": [
    {
     "name": "stderr",
     "output_type": "stream",
     "text": [
      "Training Epoch [0/200]: 100%|████████████████████████████████████████████| 59/59 [00:00<00:00, 126.04it/s, train_loss=0.07297688, val_loss=0.00000000]\n",
      "Validation Epoch [0/200]: 100%|███████████████████████████████████████████████████████████████████| 1/1 [00:00<00:00, 235.64it/s, val_loss=0.06146158]\n",
      "Training Epoch [1/200]: 100%|████████████████████████████████████████████| 59/59 [00:00<00:00, 137.84it/s, train_loss=0.05084747, val_loss=0.06146158]\n",
      "Validation Epoch [1/200]: 100%|███████████████████████████████████████████████████████████████████| 1/1 [00:00<00:00, 241.84it/s, val_loss=0.04289760]\n",
      "Training Epoch [2/200]: 100%|████████████████████████████████████████████| 59/59 [00:00<00:00, 130.38it/s, train_loss=0.03835778, val_loss=0.04289760]\n",
      "Validation Epoch [2/200]: 100%|███████████████████████████████████████████████████████████████████| 1/1 [00:00<00:00, 181.86it/s, val_loss=0.03445602]\n",
      "Training Epoch [3/200]: 100%|████████████████████████████████████████████| 59/59 [00:00<00:00, 111.69it/s, train_loss=0.03188857, val_loss=0.03445602]\n",
      "Validation Epoch [3/200]: 100%|███████████████████████████████████████████████████████████████████| 1/1 [00:00<00:00, 240.73it/s, val_loss=0.03011343]\n",
      "Training Epoch [4/200]: 100%|████████████████████████████████████████████| 59/59 [00:00<00:00, 135.03it/s, train_loss=0.02871828, val_loss=0.03011343]\n",
      "Validation Epoch [4/200]: 100%|███████████████████████████████████████████████████████████████████| 1/1 [00:00<00:00, 221.24it/s, val_loss=0.02786644]\n",
      "Training Epoch [5/200]: 100%|████████████████████████████████████████████| 59/59 [00:00<00:00, 136.81it/s, train_loss=0.02676014, val_loss=0.02786644]\n",
      "Validation Epoch [5/200]: 100%|███████████████████████████████████████████████████████████████████| 1/1 [00:00<00:00, 224.16it/s, val_loss=0.02612254]\n",
      "Training Epoch [6/200]: 100%|████████████████████████████████████████████| 59/59 [00:00<00:00, 144.42it/s, train_loss=0.02519135, val_loss=0.02612254]\n",
      "Validation Epoch [6/200]: 100%|███████████████████████████████████████████████████████████████████| 1/1 [00:00<00:00, 240.55it/s, val_loss=0.02503828]\n",
      "Training Epoch [7/200]: 100%|████████████████████████████████████████████| 59/59 [00:00<00:00, 138.57it/s, train_loss=0.02396213, val_loss=0.02503828]\n",
      "Validation Epoch [7/200]: 100%|███████████████████████████████████████████████████████████████████| 1/1 [00:00<00:00, 248.18it/s, val_loss=0.02361314]\n",
      "Training Epoch [8/200]: 100%|████████████████████████████████████████████| 59/59 [00:00<00:00, 116.52it/s, train_loss=0.02300825, val_loss=0.02361314]\n",
      "Validation Epoch [8/200]: 100%|███████████████████████████████████████████████████████████████████| 1/1 [00:00<00:00, 234.86it/s, val_loss=0.02287698]\n",
      "Training Epoch [9/200]: 100%|████████████████████████████████████████████| 59/59 [00:00<00:00, 135.42it/s, train_loss=0.02227456, val_loss=0.02287698]\n",
      "Validation Epoch [9/200]: 100%|███████████████████████████████████████████████████████████████████| 1/1 [00:00<00:00, 237.70it/s, val_loss=0.02222992]\n",
      "Training Epoch [10/200]: 100%|███████████████████████████████████████████| 59/59 [00:00<00:00, 130.13it/s, train_loss=0.02173446, val_loss=0.02222992]\n",
      "Validation Epoch [10/200]: 100%|██████████████████████████████████████████████████████████████████| 1/1 [00:00<00:00, 234.91it/s, val_loss=0.02169347]\n",
      "Training Epoch [11/200]: 100%|███████████████████████████████████████████| 59/59 [00:00<00:00, 111.25it/s, train_loss=0.02125088, val_loss=0.02169347]\n",
      "Validation Epoch [11/200]: 100%|██████████████████████████████████████████████████████████████████| 1/1 [00:00<00:00, 211.41it/s, val_loss=0.02127224]\n",
      "Training Epoch [12/200]: 100%|███████████████████████████████████████████| 59/59 [00:00<00:00, 127.35it/s, train_loss=0.02091056, val_loss=0.02127224]\n",
      "Validation Epoch [12/200]: 100%|██████████████████████████████████████████████████████████████████| 1/1 [00:00<00:00, 228.15it/s, val_loss=0.02104088]\n",
      "Training Epoch [13/200]: 100%|███████████████████████████████████████████| 59/59 [00:00<00:00, 138.02it/s, train_loss=0.02060688, val_loss=0.02104088]\n",
      "Validation Epoch [13/200]: 100%|██████████████████████████████████████████████████████████████████| 1/1 [00:00<00:00, 232.13it/s, val_loss=0.02069242]\n",
      "Training Epoch [14/200]: 100%|███████████████████████████████████████████| 59/59 [00:00<00:00, 123.68it/s, train_loss=0.02035393, val_loss=0.02069242]\n",
      "Validation Epoch [14/200]: 100%|██████████████████████████████████████████████████████████████████| 1/1 [00:00<00:00, 220.56it/s, val_loss=0.02045913]\n",
      "Training Epoch [15/200]: 100%|███████████████████████████████████████████| 59/59 [00:00<00:00, 131.68it/s, train_loss=0.02010304, val_loss=0.02045913]\n",
      "Validation Epoch [15/200]: 100%|██████████████████████████████████████████████████████████████████| 1/1 [00:00<00:00, 235.69it/s, val_loss=0.02020057]\n",
      "Training Epoch [16/200]: 100%|███████████████████████████████████████████| 59/59 [00:00<00:00, 127.72it/s, train_loss=0.01987136, val_loss=0.02020057]\n",
      "Validation Epoch [16/200]: 100%|██████████████████████████████████████████████████████████████████| 1/1 [00:00<00:00, 228.88it/s, val_loss=0.02002654]\n",
      "Training Epoch [17/200]: 100%|███████████████████████████████████████████| 59/59 [00:00<00:00, 120.74it/s, train_loss=0.01968873, val_loss=0.02002654]\n",
      "Validation Epoch [17/200]: 100%|██████████████████████████████████████████████████████████████████| 1/1 [00:00<00:00, 207.65it/s, val_loss=0.01976618]\n",
      "Training Epoch [18/200]: 100%|███████████████████████████████████████████| 59/59 [00:00<00:00, 121.69it/s, train_loss=0.01948286, val_loss=0.01976618]\n",
      "Validation Epoch [18/200]: 100%|██████████████████████████████████████████████████████████████████| 1/1 [00:00<00:00, 194.24it/s, val_loss=0.01959058]\n",
      "Training Epoch [19/200]: 100%|███████████████████████████████████████████| 59/59 [00:00<00:00, 125.42it/s, train_loss=0.01929021, val_loss=0.01959058]\n",
      "Validation Epoch [19/200]: 100%|██████████████████████████████████████████████████████████████████| 1/1 [00:00<00:00, 219.69it/s, val_loss=0.01952384]\n",
      "Training Epoch [20/200]: 100%|███████████████████████████████████████████| 59/59 [00:00<00:00, 134.91it/s, train_loss=0.01913157, val_loss=0.01952384]\n",
      "Validation Epoch [20/200]: 100%|██████████████████████████████████████████████████████████████████| 1/1 [00:00<00:00, 166.67it/s, val_loss=0.01931075]\n",
      "Training Epoch [21/200]: 100%|███████████████████████████████████████████| 59/59 [00:00<00:00, 131.75it/s, train_loss=0.01898193, val_loss=0.01931075]\n",
      "Validation Epoch [21/200]: 100%|██████████████████████████████████████████████████████████████████| 1/1 [00:00<00:00, 232.94it/s, val_loss=0.01912389]\n",
      "Training Epoch [22/200]: 100%|███████████████████████████████████████████| 59/59 [00:00<00:00, 122.58it/s, train_loss=0.01884528, val_loss=0.01912389]\n",
      "Validation Epoch [22/200]: 100%|██████████████████████████████████████████████████████████████████| 1/1 [00:00<00:00, 232.93it/s, val_loss=0.01912647]\n",
      "Training Epoch [23/200]: 100%|███████████████████████████████████████████| 59/59 [00:00<00:00, 135.03it/s, train_loss=0.01869287, val_loss=0.01912647]\n",
      "Validation Epoch [23/200]: 100%|██████████████████████████████████████████████████████████████████| 1/1 [00:00<00:00, 237.75it/s, val_loss=0.01883001]\n",
      "Training Epoch [24/200]: 100%|███████████████████████████████████████████| 59/59 [00:00<00:00, 125.05it/s, train_loss=0.01855616, val_loss=0.01883001]\n",
      "Validation Epoch [24/200]: 100%|██████████████████████████████████████████████████████████████████| 1/1 [00:00<00:00, 255.22it/s, val_loss=0.01871207]\n",
      "Training Epoch [25/200]: 100%|███████████████████████████████████████████| 59/59 [00:00<00:00, 135.09it/s, train_loss=0.01842429, val_loss=0.01871207]\n",
      "Validation Epoch [25/200]: 100%|██████████████████████████████████████████████████████████████████| 1/1 [00:00<00:00, 204.16it/s, val_loss=0.01857904]\n",
      "Training Epoch [26/200]: 100%|███████████████████████████████████████████| 59/59 [00:00<00:00, 134.27it/s, train_loss=0.01829074, val_loss=0.01857904]\n",
      "Validation Epoch [26/200]: 100%|██████████████████████████████████████████████████████████████████| 1/1 [00:00<00:00, 216.12it/s, val_loss=0.01843752]\n",
      "Training Epoch [27/200]: 100%|███████████████████████████████████████████| 59/59 [00:00<00:00, 118.38it/s, train_loss=0.01818327, val_loss=0.01843752]\n",
      "Validation Epoch [27/200]: 100%|██████████████████████████████████████████████████████████████████| 1/1 [00:00<00:00, 179.96it/s, val_loss=0.01831004]\n",
      "Training Epoch [28/200]: 100%|███████████████████████████████████████████| 59/59 [00:00<00:00, 132.86it/s, train_loss=0.01804572, val_loss=0.01831004]\n",
      "Validation Epoch [28/200]: 100%|██████████████████████████████████████████████████████████████████| 1/1 [00:00<00:00, 202.67it/s, val_loss=0.01817338]\n",
      "Training Epoch [29/200]: 100%|███████████████████████████████████████████| 59/59 [00:00<00:00, 119.65it/s, train_loss=0.01793450, val_loss=0.01817338]\n",
      "Validation Epoch [29/200]: 100%|██████████████████████████████████████████████████████████████████| 1/1 [00:00<00:00, 231.54it/s, val_loss=0.01809983]\n",
      "Training Epoch [30/200]: 100%|███████████████████████████████████████████| 59/59 [00:00<00:00, 117.73it/s, train_loss=0.01783426, val_loss=0.01809983]\n",
      "Validation Epoch [30/200]: 100%|██████████████████████████████████████████████████████████████████| 1/1 [00:00<00:00, 227.90it/s, val_loss=0.01797123]\n",
      "Training Epoch [31/200]: 100%|███████████████████████████████████████████| 59/59 [00:00<00:00, 124.96it/s, train_loss=0.01772650, val_loss=0.01797123]\n",
      "Validation Epoch [31/200]: 100%|██████████████████████████████████████████████████████████████████| 1/1 [00:00<00:00, 241.68it/s, val_loss=0.01788700]\n",
      "Training Epoch [32/200]: 100%|███████████████████████████████████████████| 59/59 [00:00<00:00, 135.19it/s, train_loss=0.01761984, val_loss=0.01788700]\n",
      "Validation Epoch [32/200]: 100%|██████████████████████████████████████████████████████████████████| 1/1 [00:00<00:00, 223.32it/s, val_loss=0.01778311]\n",
      "Training Epoch [33/200]: 100%|███████████████████████████████████████████| 59/59 [00:00<00:00, 123.79it/s, train_loss=0.01754695, val_loss=0.01778311]\n",
      "Validation Epoch [33/200]: 100%|██████████████████████████████████████████████████████████████████| 1/1 [00:00<00:00, 215.61it/s, val_loss=0.01769618]\n",
      "Training Epoch [34/200]: 100%|███████████████████████████████████████████| 59/59 [00:00<00:00, 119.50it/s, train_loss=0.01742089, val_loss=0.01769618]\n",
      "Validation Epoch [34/200]: 100%|██████████████████████████████████████████████████████████████████| 1/1 [00:00<00:00, 244.87it/s, val_loss=0.01756863]\n",
      "Training Epoch [35/200]: 100%|███████████████████████████████████████████| 59/59 [00:00<00:00, 136.20it/s, train_loss=0.01734562, val_loss=0.01756863]\n",
      "Validation Epoch [35/200]: 100%|██████████████████████████████████████████████████████████████████| 1/1 [00:00<00:00, 170.59it/s, val_loss=0.01749973]\n",
      "Training Epoch [36/200]: 100%|███████████████████████████████████████████| 59/59 [00:00<00:00, 123.98it/s, train_loss=0.01727342, val_loss=0.01749973]\n",
      "Validation Epoch [36/200]: 100%|██████████████████████████████████████████████████████████████████| 1/1 [00:00<00:00, 239.06it/s, val_loss=0.01743422]\n",
      "Training Epoch [37/200]: 100%|███████████████████████████████████████████| 59/59 [00:00<00:00, 136.78it/s, train_loss=0.01722055, val_loss=0.01743422]\n",
      "Validation Epoch [37/200]: 100%|██████████████████████████████████████████████████████████████████| 1/1 [00:00<00:00, 226.51it/s, val_loss=0.01734242]\n",
      "Training Epoch [38/200]: 100%|███████████████████████████████████████████| 59/59 [00:00<00:00, 118.88it/s, train_loss=0.01712686, val_loss=0.01734242]\n",
      "Validation Epoch [38/200]: 100%|██████████████████████████████████████████████████████████████████| 1/1 [00:00<00:00, 215.75it/s, val_loss=0.01723288]\n",
      "Training Epoch [39/200]: 100%|███████████████████████████████████████████| 59/59 [00:00<00:00, 126.67it/s, train_loss=0.01704579, val_loss=0.01723288]\n",
      "Validation Epoch [39/200]: 100%|███████████████████████████████████████████████████████████████████| 1/1 [00:00<00:00, 32.83it/s, val_loss=0.01719760]\n",
      "Training Epoch [40/200]: 100%|███████████████████████████████████████████| 59/59 [00:00<00:00, 129.14it/s, train_loss=0.01690875, val_loss=0.01719760]\n",
      "Validation Epoch [40/200]: 100%|██████████████████████████████████████████████████████████████████| 1/1 [00:00<00:00, 244.44it/s, val_loss=0.01707488]\n",
      "Training Epoch [41/200]: 100%|███████████████████████████████████████████| 59/59 [00:00<00:00, 127.11it/s, train_loss=0.01685778, val_loss=0.01707488]\n",
      "Validation Epoch [41/200]: 100%|██████████████████████████████████████████████████████████████████| 1/1 [00:00<00:00, 216.88it/s, val_loss=0.01703701]\n",
      "Training Epoch [42/200]: 100%|███████████████████████████████████████████| 59/59 [00:00<00:00, 132.45it/s, train_loss=0.01681890, val_loss=0.01703701]\n",
      "Validation Epoch [42/200]: 100%|██████████████████████████████████████████████████████████████████| 1/1 [00:00<00:00, 247.96it/s, val_loss=0.01698762]\n",
      "Training Epoch [43/200]: 100%|███████████████████████████████████████████| 59/59 [00:00<00:00, 116.25it/s, train_loss=0.01677737, val_loss=0.01698762]\n",
      "Validation Epoch [43/200]: 100%|██████████████████████████████████████████████████████████████████| 1/1 [00:00<00:00, 224.98it/s, val_loss=0.01694094]\n",
      "Training Epoch [44/200]: 100%|███████████████████████████████████████████| 59/59 [00:00<00:00, 125.12it/s, train_loss=0.01673517, val_loss=0.01694094]\n",
      "Validation Epoch [44/200]: 100%|██████████████████████████████████████████████████████████████████| 1/1 [00:00<00:00, 244.99it/s, val_loss=0.01689458]\n",
      "Training Epoch [45/200]: 100%|███████████████████████████████████████████| 59/59 [00:00<00:00, 138.83it/s, train_loss=0.01670281, val_loss=0.01689458]\n",
      "Validation Epoch [45/200]: 100%|██████████████████████████████████████████████████████████████████| 1/1 [00:00<00:00, 217.72it/s, val_loss=0.01688591]\n",
      "Training Epoch [46/200]: 100%|███████████████████████████████████████████| 59/59 [00:00<00:00, 124.88it/s, train_loss=0.01665563, val_loss=0.01688591]\n",
      "Validation Epoch [46/200]: 100%|██████████████████████████████████████████████████████████████████| 1/1 [00:00<00:00, 178.89it/s, val_loss=0.01684037]\n",
      "Training Epoch [47/200]: 100%|███████████████████████████████████████████| 59/59 [00:00<00:00, 126.27it/s, train_loss=0.01662482, val_loss=0.01684037]\n",
      "Validation Epoch [47/200]: 100%|██████████████████████████████████████████████████████████████████| 1/1 [00:00<00:00, 242.82it/s, val_loss=0.01679168]\n",
      "Training Epoch [48/200]: 100%|███████████████████████████████████████████| 59/59 [00:00<00:00, 148.84it/s, train_loss=0.01657714, val_loss=0.01679168]\n",
      "Validation Epoch [48/200]: 100%|██████████████████████████████████████████████████████████████████| 1/1 [00:00<00:00, 222.88it/s, val_loss=0.01674310]\n",
      "Training Epoch [49/200]: 100%|███████████████████████████████████████████| 59/59 [00:00<00:00, 119.07it/s, train_loss=0.01654860, val_loss=0.01674310]\n",
      "Validation Epoch [49/200]: 100%|██████████████████████████████████████████████████████████████████| 1/1 [00:00<00:00, 179.02it/s, val_loss=0.01668601]\n",
      "Training Epoch [50/200]: 100%|███████████████████████████████████████████| 59/59 [00:00<00:00, 120.93it/s, train_loss=0.01651729, val_loss=0.01668601]\n",
      "Validation Epoch [50/200]: 100%|██████████████████████████████████████████████████████████████████| 1/1 [00:00<00:00, 230.05it/s, val_loss=0.01667044]\n",
      "Training Epoch [51/200]: 100%|███████████████████████████████████████████| 59/59 [00:00<00:00, 129.82it/s, train_loss=0.01647316, val_loss=0.01667044]\n",
      "Validation Epoch [51/200]: 100%|██████████████████████████████████████████████████████████████████| 1/1 [00:00<00:00, 242.67it/s, val_loss=0.01664537]\n",
      "Training Epoch [52/200]: 100%|███████████████████████████████████████████| 59/59 [00:00<00:00, 119.80it/s, train_loss=0.01645148, val_loss=0.01664537]\n",
      "Validation Epoch [52/200]: 100%|██████████████████████████████████████████████████████████████████| 1/1 [00:00<00:00, 242.96it/s, val_loss=0.01660891]\n",
      "Training Epoch [53/200]: 100%|███████████████████████████████████████████| 59/59 [00:00<00:00, 126.68it/s, train_loss=0.01641938, val_loss=0.01660891]\n",
      "Validation Epoch [53/200]: 100%|██████████████████████████████████████████████████████████████████| 1/1 [00:00<00:00, 238.43it/s, val_loss=0.01661080]\n",
      "Training Epoch [54/200]: 100%|███████████████████████████████████████████| 59/59 [00:00<00:00, 124.15it/s, train_loss=0.01638159, val_loss=0.01661080]\n",
      "Validation Epoch [54/200]: 100%|██████████████████████████████████████████████████████████████████| 1/1 [00:00<00:00, 224.05it/s, val_loss=0.01654785]\n",
      "Training Epoch [55/200]: 100%|███████████████████████████████████████████| 59/59 [00:00<00:00, 123.12it/s, train_loss=0.01635863, val_loss=0.01654785]\n",
      "Validation Epoch [55/200]: 100%|██████████████████████████████████████████████████████████████████| 1/1 [00:00<00:00, 224.76it/s, val_loss=0.01662626]\n",
      "Training Epoch [56/200]: 100%|███████████████████████████████████████████| 59/59 [00:00<00:00, 142.34it/s, train_loss=0.01634449, val_loss=0.01662626]\n",
      "Validation Epoch [56/200]: 100%|██████████████████████████████████████████████████████████████████| 1/1 [00:00<00:00, 249.77it/s, val_loss=0.01648927]\n",
      "Training Epoch [57/200]: 100%|███████████████████████████████████████████| 59/59 [00:00<00:00, 123.09it/s, train_loss=0.01631522, val_loss=0.01648927]\n",
      "Validation Epoch [57/200]: 100%|██████████████████████████████████████████████████████████████████| 1/1 [00:00<00:00, 263.58it/s, val_loss=0.01648350]\n",
      "Training Epoch [58/200]: 100%|███████████████████████████████████████████| 59/59 [00:00<00:00, 126.03it/s, train_loss=0.01628090, val_loss=0.01648350]\n",
      "Validation Epoch [58/200]: 100%|██████████████████████████████████████████████████████████████████| 1/1 [00:00<00:00, 230.14it/s, val_loss=0.01645968]\n",
      "Training Epoch [59/200]: 100%|███████████████████████████████████████████| 59/59 [00:00<00:00, 111.66it/s, train_loss=0.01626220, val_loss=0.01645968]\n",
      "Validation Epoch [59/200]: 100%|██████████████████████████████████████████████████████████████████| 1/1 [00:00<00:00, 179.63it/s, val_loss=0.01643016]\n",
      "Training Epoch [60/200]: 100%|███████████████████████████████████████████| 59/59 [00:00<00:00, 120.47it/s, train_loss=0.01623024, val_loss=0.01643016]\n",
      "Validation Epoch [60/200]: 100%|██████████████████████████████████████████████████████████████████| 1/1 [00:00<00:00, 256.99it/s, val_loss=0.01640802]\n",
      "Training Epoch [61/200]: 100%|███████████████████████████████████████████| 59/59 [00:00<00:00, 121.08it/s, train_loss=0.01620696, val_loss=0.01640802]\n",
      "Validation Epoch [61/200]: 100%|██████████████████████████████████████████████████████████████████| 1/1 [00:00<00:00, 253.82it/s, val_loss=0.01638360]\n",
      "Training Epoch [62/200]: 100%|███████████████████████████████████████████| 59/59 [00:00<00:00, 127.64it/s, train_loss=0.01619065, val_loss=0.01638360]\n",
      "Validation Epoch [62/200]: 100%|██████████████████████████████████████████████████████████████████| 1/1 [00:00<00:00, 112.56it/s, val_loss=0.01638213]\n",
      "Training Epoch [63/200]: 100%|███████████████████████████████████████████| 59/59 [00:00<00:00, 142.28it/s, train_loss=0.01616102, val_loss=0.01638213]\n",
      "Validation Epoch [63/200]: 100%|██████████████████████████████████████████████████████████████████| 1/1 [00:00<00:00, 226.92it/s, val_loss=0.01630196]\n",
      "Training Epoch [64/200]: 100%|███████████████████████████████████████████| 59/59 [00:00<00:00, 119.40it/s, train_loss=0.01613242, val_loss=0.01630196]\n",
      "Validation Epoch [64/200]: 100%|██████████████████████████████████████████████████████████████████| 1/1 [00:00<00:00, 214.18it/s, val_loss=0.01629747]\n",
      "Training Epoch [65/200]: 100%|███████████████████████████████████████████| 59/59 [00:00<00:00, 121.85it/s, train_loss=0.01611708, val_loss=0.01629747]\n",
      "Validation Epoch [65/200]: 100%|██████████████████████████████████████████████████████████████████| 1/1 [00:00<00:00, 232.84it/s, val_loss=0.01629122]\n",
      "Training Epoch [66/200]: 100%|███████████████████████████████████████████| 59/59 [00:00<00:00, 126.10it/s, train_loss=0.01608710, val_loss=0.01629122]\n",
      "Validation Epoch [66/200]: 100%|██████████████████████████████████████████████████████████████████| 1/1 [00:00<00:00, 226.13it/s, val_loss=0.01624773]\n",
      "Training Epoch [67/200]: 100%|███████████████████████████████████████████| 59/59 [00:00<00:00, 120.66it/s, train_loss=0.01607567, val_loss=0.01624773]\n",
      "Validation Epoch [67/200]: 100%|██████████████████████████████████████████████████████████████████| 1/1 [00:00<00:00, 217.58it/s, val_loss=0.01625174]\n",
      "Training Epoch [68/200]: 100%|███████████████████████████████████████████| 59/59 [00:00<00:00, 123.13it/s, train_loss=0.01604138, val_loss=0.01625174]\n",
      "Validation Epoch [68/200]: 100%|██████████████████████████████████████████████████████████████████| 1/1 [00:00<00:00, 234.10it/s, val_loss=0.01620525]\n",
      "Training Epoch [69/200]: 100%|███████████████████████████████████████████| 59/59 [00:00<00:00, 122.89it/s, train_loss=0.01602110, val_loss=0.01620525]\n",
      "Validation Epoch [69/200]: 100%|██████████████████████████████████████████████████████████████████| 1/1 [00:00<00:00, 241.79it/s, val_loss=0.01620280]\n",
      "Training Epoch [70/200]: 100%|███████████████████████████████████████████| 59/59 [00:00<00:00, 123.96it/s, train_loss=0.01600999, val_loss=0.01620280]\n",
      "Validation Epoch [70/200]: 100%|██████████████████████████████████████████████████████████████████| 1/1 [00:00<00:00, 212.37it/s, val_loss=0.01617583]\n",
      "Training Epoch [71/200]: 100%|███████████████████████████████████████████| 59/59 [00:00<00:00, 119.91it/s, train_loss=0.01597347, val_loss=0.01617583]\n",
      "Validation Epoch [71/200]: 100%|██████████████████████████████████████████████████████████████████| 1/1 [00:00<00:00, 200.68it/s, val_loss=0.01611891]\n",
      "Training Epoch [72/200]: 100%|███████████████████████████████████████████| 59/59 [00:00<00:00, 135.53it/s, train_loss=0.01596472, val_loss=0.01611891]\n",
      "Validation Epoch [72/200]: 100%|███████████████████████████████████████████████████████████████████| 1/1 [00:00<00:00, 31.10it/s, val_loss=0.01614683]\n",
      "Training Epoch [73/200]: 100%|███████████████████████████████████████████| 59/59 [00:00<00:00, 131.20it/s, train_loss=0.01594264, val_loss=0.01614683]\n",
      "Validation Epoch [73/200]: 100%|██████████████████████████████████████████████████████████████████| 1/1 [00:00<00:00, 240.97it/s, val_loss=0.01611644]\n",
      "Training Epoch [74/200]: 100%|███████████████████████████████████████████| 59/59 [00:00<00:00, 127.89it/s, train_loss=0.01592819, val_loss=0.01611644]\n",
      "Validation Epoch [74/200]: 100%|██████████████████████████████████████████████████████████████████| 1/1 [00:00<00:00, 231.69it/s, val_loss=0.01607516]\n",
      "Training Epoch [75/200]: 100%|███████████████████████████████████████████| 59/59 [00:00<00:00, 122.65it/s, train_loss=0.01590899, val_loss=0.01607516]\n",
      "Validation Epoch [75/200]: 100%|██████████████████████████████████████████████████████████████████| 1/1 [00:00<00:00, 212.90it/s, val_loss=0.01606933]\n",
      "Training Epoch [76/200]: 100%|███████████████████████████████████████████| 59/59 [00:00<00:00, 123.85it/s, train_loss=0.01588771, val_loss=0.01606933]\n",
      "Validation Epoch [76/200]: 100%|██████████████████████████████████████████████████████████████████| 1/1 [00:00<00:00, 203.50it/s, val_loss=0.01608567]\n",
      "Training Epoch [77/200]: 100%|███████████████████████████████████████████| 59/59 [00:00<00:00, 122.25it/s, train_loss=0.01586618, val_loss=0.01608567]\n",
      "Validation Epoch [77/200]: 100%|██████████████████████████████████████████████████████████████████| 1/1 [00:00<00:00, 176.21it/s, val_loss=0.01602449]\n",
      "Training Epoch [78/200]: 100%|███████████████████████████████████████████| 59/59 [00:00<00:00, 123.74it/s, train_loss=0.01585071, val_loss=0.01602449]\n",
      "Validation Epoch [78/200]: 100%|██████████████████████████████████████████████████████████████████| 1/1 [00:00<00:00, 230.47it/s, val_loss=0.01601291]\n",
      "Training Epoch [79/200]: 100%|███████████████████████████████████████████| 59/59 [00:00<00:00, 119.92it/s, train_loss=0.01582250, val_loss=0.01601291]\n",
      "Validation Epoch [79/200]: 100%|██████████████████████████████████████████████████████████████████| 1/1 [00:00<00:00, 213.27it/s, val_loss=0.01598611]\n",
      "Training Epoch [80/200]: 100%|███████████████████████████████████████████| 59/59 [00:00<00:00, 112.24it/s, train_loss=0.01575947, val_loss=0.01598611]\n",
      "Validation Epoch [80/200]: 100%|██████████████████████████████████████████████████████████████████| 1/1 [00:00<00:00, 174.65it/s, val_loss=0.01592484]\n",
      "Training Epoch [81/200]: 100%|███████████████████████████████████████████| 59/59 [00:00<00:00, 104.76it/s, train_loss=0.01575022, val_loss=0.01592484]\n",
      "Validation Epoch [81/200]: 100%|██████████████████████████████████████████████████████████████████| 1/1 [00:00<00:00, 234.57it/s, val_loss=0.01590677]\n",
      "Training Epoch [82/200]: 100%|███████████████████████████████████████████| 59/59 [00:00<00:00, 114.09it/s, train_loss=0.01572468, val_loss=0.01590677]\n",
      "Validation Epoch [82/200]: 100%|██████████████████████████████████████████████████████████████████| 1/1 [00:00<00:00, 230.63it/s, val_loss=0.01588009]\n",
      "Training Epoch [83/200]: 100%|███████████████████████████████████████████| 59/59 [00:00<00:00, 117.53it/s, train_loss=0.01571404, val_loss=0.01588009]\n",
      "Validation Epoch [83/200]: 100%|██████████████████████████████████████████████████████████████████| 1/1 [00:00<00:00, 221.55it/s, val_loss=0.01589533]\n",
      "Training Epoch [84/200]: 100%|███████████████████████████████████████████| 59/59 [00:00<00:00, 115.73it/s, train_loss=0.01570124, val_loss=0.01589533]\n",
      "Validation Epoch [84/200]: 100%|██████████████████████████████████████████████████████████████████| 1/1 [00:00<00:00, 238.60it/s, val_loss=0.01587801]\n",
      "Training Epoch [85/200]: 100%|███████████████████████████████████████████| 59/59 [00:00<00:00, 120.38it/s, train_loss=0.01569222, val_loss=0.01587801]\n",
      "Validation Epoch [85/200]: 100%|██████████████████████████████████████████████████████████████████| 1/1 [00:00<00:00, 229.61it/s, val_loss=0.01586864]\n",
      "Training Epoch [86/200]: 100%|███████████████████████████████████████████| 59/59 [00:00<00:00, 120.00it/s, train_loss=0.01567609, val_loss=0.01586864]\n",
      "Validation Epoch [86/200]: 100%|██████████████████████████████████████████████████████████████████| 1/1 [00:00<00:00, 208.33it/s, val_loss=0.01582459]\n",
      "Training Epoch [87/200]: 100%|███████████████████████████████████████████| 59/59 [00:00<00:00, 108.84it/s, train_loss=0.01567078, val_loss=0.01582459]\n",
      "Validation Epoch [87/200]: 100%|██████████████████████████████████████████████████████████████████| 1/1 [00:00<00:00, 190.43it/s, val_loss=0.01581885]\n",
      "Training Epoch [88/200]: 100%|███████████████████████████████████████████| 59/59 [00:00<00:00, 116.91it/s, train_loss=0.01565512, val_loss=0.01581885]\n",
      "Validation Epoch [88/200]: 100%|██████████████████████████████████████████████████████████████████| 1/1 [00:00<00:00, 213.13it/s, val_loss=0.01582930]\n",
      "Training Epoch [89/200]: 100%|███████████████████████████████████████████| 59/59 [00:00<00:00, 114.84it/s, train_loss=0.01564549, val_loss=0.01582930]\n",
      "Validation Epoch [89/200]: 100%|███████████████████████████████████████████████████████████████████| 1/1 [00:00<00:00, 80.70it/s, val_loss=0.01580467]\n",
      "Training Epoch [90/200]: 100%|███████████████████████████████████████████| 59/59 [00:00<00:00, 107.48it/s, train_loss=0.01563010, val_loss=0.01580467]\n",
      "Validation Epoch [90/200]: 100%|██████████████████████████████████████████████████████████████████| 1/1 [00:00<00:00, 187.93it/s, val_loss=0.01580131]\n",
      "Training Epoch [91/200]: 100%|███████████████████████████████████████████| 59/59 [00:00<00:00, 103.86it/s, train_loss=0.01561259, val_loss=0.01580131]\n",
      "Validation Epoch [91/200]: 100%|██████████████████████████████████████████████████████████████████| 1/1 [00:00<00:00, 172.06it/s, val_loss=0.01577023]\n",
      "Training Epoch [92/200]: 100%|███████████████████████████████████████████| 59/59 [00:00<00:00, 105.61it/s, train_loss=0.01560709, val_loss=0.01577023]\n",
      "Validation Epoch [92/200]: 100%|██████████████████████████████████████████████████████████████████| 1/1 [00:00<00:00, 225.83it/s, val_loss=0.01577917]\n",
      "Training Epoch [93/200]: 100%|████████████████████████████████████████████| 59/59 [00:00<00:00, 99.56it/s, train_loss=0.01558802, val_loss=0.01577917]\n",
      "Validation Epoch [93/200]: 100%|██████████████████████████████████████████████████████████████████| 1/1 [00:00<00:00, 222.23it/s, val_loss=0.01574441]\n",
      "Training Epoch [94/200]: 100%|███████████████████████████████████████████| 59/59 [00:00<00:00, 110.59it/s, train_loss=0.01558191, val_loss=0.01574441]\n",
      "Validation Epoch [94/200]: 100%|██████████████████████████████████████████████████████████████████| 1/1 [00:00<00:00, 201.98it/s, val_loss=0.01573227]\n",
      "Training Epoch [95/200]: 100%|███████████████████████████████████████████| 59/59 [00:00<00:00, 108.45it/s, train_loss=0.01557311, val_loss=0.01573227]\n",
      "Validation Epoch [95/200]: 100%|██████████████████████████████████████████████████████████████████| 1/1 [00:00<00:00, 208.24it/s, val_loss=0.01572565]\n",
      "Training Epoch [96/200]: 100%|███████████████████████████████████████████| 59/59 [00:00<00:00, 107.57it/s, train_loss=0.01554697, val_loss=0.01572565]\n",
      "Validation Epoch [96/200]: 100%|██████████████████████████████████████████████████████████████████| 1/1 [00:00<00:00, 242.95it/s, val_loss=0.01570474]\n",
      "Training Epoch [97/200]: 100%|███████████████████████████████████████████| 59/59 [00:00<00:00, 107.00it/s, train_loss=0.01553047, val_loss=0.01570474]\n",
      "Validation Epoch [97/200]: 100%|██████████████████████████████████████████████████████████████████| 1/1 [00:00<00:00, 191.98it/s, val_loss=0.01569234]\n",
      "Training Epoch [98/200]: 100%|███████████████████████████████████████████| 59/59 [00:00<00:00, 108.59it/s, train_loss=0.01552867, val_loss=0.01569234]\n",
      "Validation Epoch [98/200]: 100%|███████████████████████████████████████████████████████████████████| 1/1 [00:00<00:00, 24.15it/s, val_loss=0.01566702]\n",
      "Training Epoch [99/200]: 100%|███████████████████████████████████████████| 59/59 [00:00<00:00, 103.51it/s, train_loss=0.01550973, val_loss=0.01566702]\n",
      "Validation Epoch [99/200]: 100%|██████████████████████████████████████████████████████████████████| 1/1 [00:00<00:00, 216.55it/s, val_loss=0.01565692]\n",
      "Training Epoch [100/200]: 100%|███████████████████████████████████████████| 59/59 [00:00<00:00, 92.62it/s, train_loss=0.01549383, val_loss=0.01565692]\n",
      "Validation Epoch [100/200]: 100%|█████████████████████████████████████████████████████████████████| 1/1 [00:00<00:00, 203.66it/s, val_loss=0.01565596]\n",
      "Training Epoch [101/200]: 100%|██████████████████████████████████████████| 59/59 [00:00<00:00, 109.09it/s, train_loss=0.01548410, val_loss=0.01565596]\n",
      "Validation Epoch [101/200]: 100%|█████████████████████████████████████████████████████████████████| 1/1 [00:00<00:00, 222.07it/s, val_loss=0.01565506]\n",
      "Training Epoch [102/200]: 100%|███████████████████████████████████████████| 59/59 [00:00<00:00, 98.69it/s, train_loss=0.01547455, val_loss=0.01565506]\n",
      "Validation Epoch [102/200]: 100%|█████████████████████████████████████████████████████████████████| 1/1 [00:00<00:00, 200.60it/s, val_loss=0.01564773]\n",
      "Training Epoch [103/200]: 100%|██████████████████████████████████████████| 59/59 [00:00<00:00, 106.11it/s, train_loss=0.01545779, val_loss=0.01564773]\n",
      "Validation Epoch [103/200]: 100%|█████████████████████████████████████████████████████████████████| 1/1 [00:00<00:00, 198.68it/s, val_loss=0.01561350]\n",
      "Training Epoch [104/200]: 100%|██████████████████████████████████████████| 59/59 [00:00<00:00, 106.38it/s, train_loss=0.01544633, val_loss=0.01561350]\n",
      "Validation Epoch [104/200]: 100%|█████████████████████████████████████████████████████████████████| 1/1 [00:00<00:00, 193.95it/s, val_loss=0.01558322]\n",
      "Training Epoch [105/200]: 100%|██████████████████████████████████████████| 59/59 [00:00<00:00, 100.80it/s, train_loss=0.01543846, val_loss=0.01558322]\n",
      "Validation Epoch [105/200]: 100%|█████████████████████████████████████████████████████████████████| 1/1 [00:00<00:00, 200.89it/s, val_loss=0.01560154]\n",
      "Training Epoch [106/200]: 100%|██████████████████████████████████████████| 59/59 [00:00<00:00, 105.05it/s, train_loss=0.01541265, val_loss=0.01560154]\n",
      "Validation Epoch [106/200]: 100%|█████████████████████████████████████████████████████████████████| 1/1 [00:00<00:00, 193.96it/s, val_loss=0.01554638]\n",
      "Training Epoch [107/200]: 100%|██████████████████████████████████████████| 59/59 [00:00<00:00, 104.62it/s, train_loss=0.01540907, val_loss=0.01554638]\n",
      "Validation Epoch [107/200]: 100%|█████████████████████████████████████████████████████████████████| 1/1 [00:00<00:00, 177.97it/s, val_loss=0.01556275]\n",
      "Training Epoch [108/200]: 100%|██████████████████████████████████████████| 59/59 [00:00<00:00, 100.48it/s, train_loss=0.01540084, val_loss=0.01556275]\n",
      "Validation Epoch [108/200]: 100%|█████████████████████████████████████████████████████████████████| 1/1 [00:00<00:00, 206.78it/s, val_loss=0.01554604]\n",
      "Training Epoch [109/200]: 100%|██████████████████████████████████████████| 59/59 [00:00<00:00, 108.40it/s, train_loss=0.01539046, val_loss=0.01554604]\n",
      "Validation Epoch [109/200]: 100%|█████████████████████████████████████████████████████████████████| 1/1 [00:00<00:00, 167.06it/s, val_loss=0.01553159]\n",
      "Training Epoch [110/200]: 100%|███████████████████████████████████████████| 59/59 [00:00<00:00, 97.84it/s, train_loss=0.01536921, val_loss=0.01553159]\n",
      "Validation Epoch [110/200]: 100%|█████████████████████████████████████████████████████████████████| 1/1 [00:00<00:00, 187.41it/s, val_loss=0.01553184]\n",
      "Training Epoch [111/200]: 100%|███████████████████████████████████████████| 59/59 [00:00<00:00, 96.80it/s, train_loss=0.01535892, val_loss=0.01553184]\n",
      "Validation Epoch [111/200]: 100%|█████████████████████████████████████████████████████████████████| 1/1 [00:00<00:00, 237.60it/s, val_loss=0.01554626]\n",
      "Training Epoch [112/200]: 100%|██████████████████████████████████████████| 59/59 [00:00<00:00, 107.74it/s, train_loss=0.01534901, val_loss=0.01554626]\n",
      "Validation Epoch [112/200]: 100%|█████████████████████████████████████████████████████████████████| 1/1 [00:00<00:00, 134.08it/s, val_loss=0.01552156]\n",
      "Training Epoch [113/200]: 100%|███████████████████████████████████████████| 59/59 [00:00<00:00, 98.43it/s, train_loss=0.01533872, val_loss=0.01552156]\n",
      "Validation Epoch [113/200]: 100%|█████████████████████████████████████████████████████████████████| 1/1 [00:00<00:00, 200.41it/s, val_loss=0.01549874]\n",
      "Training Epoch [114/200]: 100%|██████████████████████████████████████████| 59/59 [00:00<00:00, 110.26it/s, train_loss=0.01532027, val_loss=0.01549874]\n",
      "Validation Epoch [114/200]: 100%|█████████████████████████████████████████████████████████████████| 1/1 [00:00<00:00, 219.74it/s, val_loss=0.01548404]\n",
      "Training Epoch [115/200]: 100%|██████████████████████████████████████████| 59/59 [00:00<00:00, 104.85it/s, train_loss=0.01530763, val_loss=0.01548404]\n",
      "Validation Epoch [115/200]: 100%|█████████████████████████████████████████████████████████████████| 1/1 [00:00<00:00, 212.08it/s, val_loss=0.01545492]\n",
      "Training Epoch [116/200]: 100%|███████████████████████████████████████████| 59/59 [00:00<00:00, 99.46it/s, train_loss=0.01529174, val_loss=0.01545492]\n",
      "Validation Epoch [116/200]: 100%|█████████████████████████████████████████████████████████████████| 1/1 [00:00<00:00, 209.57it/s, val_loss=0.01546031]\n",
      "Training Epoch [117/200]: 100%|██████████████████████████████████████████| 59/59 [00:00<00:00, 108.33it/s, train_loss=0.01528756, val_loss=0.01546031]\n",
      "Validation Epoch [117/200]: 100%|█████████████████████████████████████████████████████████████████| 1/1 [00:00<00:00, 252.71it/s, val_loss=0.01544964]\n",
      "Training Epoch [118/200]: 100%|██████████████████████████████████████████| 59/59 [00:00<00:00, 104.78it/s, train_loss=0.01527628, val_loss=0.01544964]\n",
      "Validation Epoch [118/200]: 100%|█████████████████████████████████████████████████████████████████| 1/1 [00:00<00:00, 176.59it/s, val_loss=0.01542962]\n",
      "Training Epoch [119/200]: 100%|██████████████████████████████████████████| 59/59 [00:00<00:00, 108.15it/s, train_loss=0.01526430, val_loss=0.01542962]\n",
      "Validation Epoch [119/200]: 100%|█████████████████████████████████████████████████████████████████| 1/1 [00:00<00:00, 198.06it/s, val_loss=0.01543403]\n",
      "Training Epoch [120/200]: 100%|███████████████████████████████████████████| 59/59 [00:00<00:00, 97.22it/s, train_loss=0.01521721, val_loss=0.01543403]\n",
      "Validation Epoch [120/200]: 100%|█████████████████████████████████████████████████████████████████| 1/1 [00:00<00:00, 173.05it/s, val_loss=0.01538341]\n",
      "Training Epoch [121/200]: 100%|███████████████████████████████████████████| 59/59 [00:00<00:00, 93.02it/s, train_loss=0.01520445, val_loss=0.01538341]\n",
      "Validation Epoch [121/200]: 100%|█████████████████████████████████████████████████████████████████| 1/1 [00:00<00:00, 232.33it/s, val_loss=0.01536279]\n",
      "Training Epoch [122/200]: 100%|██████████████████████████████████████████| 59/59 [00:00<00:00, 103.89it/s, train_loss=0.01520078, val_loss=0.01536279]\n",
      "Validation Epoch [122/200]: 100%|█████████████████████████████████████████████████████████████████| 1/1 [00:00<00:00, 207.85it/s, val_loss=0.01536852]\n",
      "Training Epoch [123/200]: 100%|██████████████████████████████████████████| 59/59 [00:00<00:00, 101.21it/s, train_loss=0.01518985, val_loss=0.01536852]\n",
      "Validation Epoch [123/200]: 100%|█████████████████████████████████████████████████████████████████| 1/1 [00:00<00:00, 188.32it/s, val_loss=0.01535409]\n",
      "Training Epoch [124/200]: 100%|██████████████████████████████████████████| 59/59 [00:00<00:00, 103.36it/s, train_loss=0.01517979, val_loss=0.01535409]\n",
      "Validation Epoch [124/200]: 100%|█████████████████████████████████████████████████████████████████| 1/1 [00:00<00:00, 231.31it/s, val_loss=0.01535346]\n",
      "Training Epoch [125/200]: 100%|███████████████████████████████████████████| 59/59 [00:00<00:00, 97.92it/s, train_loss=0.01517180, val_loss=0.01535346]\n",
      "Validation Epoch [125/200]: 100%|█████████████████████████████████████████████████████████████████| 1/1 [00:00<00:00, 234.80it/s, val_loss=0.01534317]\n",
      "Training Epoch [126/200]: 100%|██████████████████████████████████████████| 59/59 [00:00<00:00, 101.79it/s, train_loss=0.01516460, val_loss=0.01534317]\n",
      "Validation Epoch [126/200]: 100%|██████████████████████████████████████████████████████████████████| 1/1 [00:00<00:00, 97.02it/s, val_loss=0.01533114]\n",
      "Training Epoch [127/200]: 100%|██████████████████████████████████████████| 59/59 [00:00<00:00, 107.93it/s, train_loss=0.01515793, val_loss=0.01533114]\n",
      "Validation Epoch [127/200]: 100%|█████████████████████████████████████████████████████████████████| 1/1 [00:00<00:00, 187.69it/s, val_loss=0.01533244]\n",
      "Training Epoch [128/200]: 100%|██████████████████████████████████████████| 59/59 [00:00<00:00, 111.12it/s, train_loss=0.01515372, val_loss=0.01533244]\n",
      "Validation Epoch [128/200]: 100%|██████████████████████████████████████████████████████████████████| 1/1 [00:00<00:00, 28.70it/s, val_loss=0.01530556]\n",
      "Training Epoch [129/200]: 100%|██████████████████████████████████████████| 59/59 [00:00<00:00, 112.62it/s, train_loss=0.01514004, val_loss=0.01530556]\n",
      "Validation Epoch [129/200]: 100%|█████████████████████████████████████████████████████████████████| 1/1 [00:00<00:00, 216.08it/s, val_loss=0.01529542]\n",
      "Training Epoch [130/200]: 100%|██████████████████████████████████████████| 59/59 [00:00<00:00, 106.80it/s, train_loss=0.01513852, val_loss=0.01529542]\n",
      "Validation Epoch [130/200]: 100%|█████████████████████████████████████████████████████████████████| 1/1 [00:00<00:00, 212.27it/s, val_loss=0.01529486]\n",
      "Training Epoch [131/200]: 100%|██████████████████████████████████████████| 59/59 [00:00<00:00, 112.05it/s, train_loss=0.01512467, val_loss=0.01529486]\n",
      "Validation Epoch [131/200]: 100%|█████████████████████████████████████████████████████████████████| 1/1 [00:00<00:00, 233.87it/s, val_loss=0.01530112]\n",
      "Training Epoch [132/200]: 100%|██████████████████████████████████████████| 59/59 [00:00<00:00, 110.05it/s, train_loss=0.01511943, val_loss=0.01530112]\n",
      "Validation Epoch [132/200]: 100%|█████████████████████████████████████████████████████████████████| 1/1 [00:00<00:00, 242.00it/s, val_loss=0.01529440]\n",
      "Training Epoch [133/200]: 100%|██████████████████████████████████████████| 59/59 [00:00<00:00, 106.61it/s, train_loss=0.01511309, val_loss=0.01529440]\n",
      "Validation Epoch [133/200]: 100%|█████████████████████████████████████████████████████████████████| 1/1 [00:00<00:00, 186.78it/s, val_loss=0.01527874]\n",
      "Training Epoch [134/200]: 100%|██████████████████████████████████████████| 59/59 [00:00<00:00, 117.37it/s, train_loss=0.01510350, val_loss=0.01527874]\n",
      "Validation Epoch [134/200]: 100%|█████████████████████████████████████████████████████████████████| 1/1 [00:00<00:00, 200.23it/s, val_loss=0.01527566]\n",
      "Training Epoch [135/200]: 100%|██████████████████████████████████████████| 59/59 [00:00<00:00, 108.48it/s, train_loss=0.01509524, val_loss=0.01527566]\n",
      "Validation Epoch [135/200]: 100%|█████████████████████████████████████████████████████████████████| 1/1 [00:00<00:00, 213.67it/s, val_loss=0.01525890]\n",
      "Training Epoch [136/200]: 100%|██████████████████████████████████████████| 59/59 [00:00<00:00, 115.15it/s, train_loss=0.01508688, val_loss=0.01525890]\n",
      "Validation Epoch [136/200]: 100%|█████████████████████████████████████████████████████████████████| 1/1 [00:00<00:00, 131.07it/s, val_loss=0.01526038]\n",
      "Training Epoch [137/200]: 100%|██████████████████████████████████████████| 59/59 [00:00<00:00, 116.45it/s, train_loss=0.01507865, val_loss=0.01526038]\n",
      "Validation Epoch [137/200]: 100%|█████████████████████████████████████████████████████████████████| 1/1 [00:00<00:00, 183.05it/s, val_loss=0.01526303]\n",
      "Training Epoch [138/200]: 100%|██████████████████████████████████████████| 59/59 [00:00<00:00, 105.92it/s, train_loss=0.01506931, val_loss=0.01526303]\n",
      "Validation Epoch [138/200]: 100%|█████████████████████████████████████████████████████████████████| 1/1 [00:00<00:00, 216.30it/s, val_loss=0.01523892]\n",
      "Training Epoch [139/200]: 100%|██████████████████████████████████████████| 59/59 [00:00<00:00, 118.70it/s, train_loss=0.01506286, val_loss=0.01523892]\n",
      "Validation Epoch [139/200]: 100%|█████████████████████████████████████████████████████████████████| 1/1 [00:00<00:00, 200.04it/s, val_loss=0.01524197]\n",
      "Training Epoch [140/200]: 100%|██████████████████████████████████████████| 59/59 [00:00<00:00, 107.65it/s, train_loss=0.01505500, val_loss=0.01524197]\n",
      "Validation Epoch [140/200]: 100%|█████████████████████████████████████████████████████████████████| 1/1 [00:00<00:00, 201.42it/s, val_loss=0.01523255]\n",
      "Training Epoch [141/200]: 100%|██████████████████████████████████████████| 59/59 [00:00<00:00, 107.85it/s, train_loss=0.01504814, val_loss=0.01523255]\n",
      "Validation Epoch [141/200]: 100%|█████████████████████████████████████████████████████████████████| 1/1 [00:00<00:00, 229.93it/s, val_loss=0.01521249]\n",
      "Training Epoch [142/200]: 100%|██████████████████████████████████████████| 59/59 [00:00<00:00, 117.53it/s, train_loss=0.01504105, val_loss=0.01521249]\n",
      "Validation Epoch [142/200]: 100%|█████████████████████████████████████████████████████████████████| 1/1 [00:00<00:00, 178.44it/s, val_loss=0.01520100]\n",
      "Training Epoch [143/200]: 100%|██████████████████████████████████████████| 59/59 [00:00<00:00, 117.28it/s, train_loss=0.01503052, val_loss=0.01520100]\n",
      "Validation Epoch [143/200]: 100%|█████████████████████████████████████████████████████████████████| 1/1 [00:00<00:00, 211.60it/s, val_loss=0.01521843]\n",
      "Training Epoch [144/200]: 100%|██████████████████████████████████████████| 59/59 [00:00<00:00, 119.71it/s, train_loss=0.01502504, val_loss=0.01521843]\n",
      "Validation Epoch [144/200]: 100%|█████████████████████████████████████████████████████████████████| 1/1 [00:00<00:00, 177.36it/s, val_loss=0.01518072]\n",
      "Training Epoch [145/200]: 100%|██████████████████████████████████████████| 59/59 [00:00<00:00, 119.16it/s, train_loss=0.01501477, val_loss=0.01518072]\n",
      "Validation Epoch [145/200]: 100%|█████████████████████████████████████████████████████████████████| 1/1 [00:00<00:00, 226.69it/s, val_loss=0.01517999]\n",
      "Training Epoch [146/200]: 100%|██████████████████████████████████████████| 59/59 [00:00<00:00, 114.84it/s, train_loss=0.01501457, val_loss=0.01517999]\n",
      "Validation Epoch [146/200]: 100%|█████████████████████████████████████████████████████████████████| 1/1 [00:00<00:00, 150.99it/s, val_loss=0.01518205]\n",
      "Training Epoch [147/200]: 100%|██████████████████████████████████████████| 59/59 [00:00<00:00, 113.80it/s, train_loss=0.01500167, val_loss=0.01518205]\n",
      "Validation Epoch [147/200]: 100%|█████████████████████████████████████████████████████████████████| 1/1 [00:00<00:00, 171.15it/s, val_loss=0.01517050]\n",
      "Training Epoch [148/200]: 100%|██████████████████████████████████████████| 59/59 [00:00<00:00, 104.07it/s, train_loss=0.01499770, val_loss=0.01517050]\n",
      "Validation Epoch [148/200]: 100%|█████████████████████████████████████████████████████████████████| 1/1 [00:00<00:00, 225.60it/s, val_loss=0.01515514]\n",
      "Training Epoch [149/200]: 100%|██████████████████████████████████████████| 59/59 [00:00<00:00, 104.54it/s, train_loss=0.01499186, val_loss=0.01515514]\n",
      "Validation Epoch [149/200]: 100%|█████████████████████████████████████████████████████████████████| 1/1 [00:00<00:00, 227.84it/s, val_loss=0.01514926]\n",
      "Training Epoch [150/200]: 100%|███████████████████████████████████████████| 59/59 [00:00<00:00, 96.87it/s, train_loss=0.01498187, val_loss=0.01514926]\n",
      "Validation Epoch [150/200]: 100%|█████████████████████████████████████████████████████████████████| 1/1 [00:00<00:00, 219.87it/s, val_loss=0.01514465]\n",
      "Training Epoch [151/200]: 100%|██████████████████████████████████████████| 59/59 [00:00<00:00, 106.90it/s, train_loss=0.01497492, val_loss=0.01514465]\n",
      "Validation Epoch [151/200]: 100%|█████████████████████████████████████████████████████████████████| 1/1 [00:00<00:00, 138.95it/s, val_loss=0.01512619]\n",
      "Training Epoch [152/200]: 100%|███████████████████████████████████████████| 59/59 [00:00<00:00, 97.78it/s, train_loss=0.01496440, val_loss=0.01512619]\n",
      "Validation Epoch [152/200]: 100%|█████████████████████████████████████████████████████████████████| 1/1 [00:00<00:00, 201.24it/s, val_loss=0.01512733]\n",
      "Training Epoch [153/200]: 100%|██████████████████████████████████████████| 59/59 [00:00<00:00, 100.39it/s, train_loss=0.01496163, val_loss=0.01512733]\n",
      "Validation Epoch [153/200]: 100%|█████████████████████████████████████████████████████████████████| 1/1 [00:00<00:00, 237.99it/s, val_loss=0.01511330]\n",
      "Training Epoch [154/200]: 100%|██████████████████████████████████████████| 59/59 [00:00<00:00, 102.02it/s, train_loss=0.01494183, val_loss=0.01511330]\n",
      "Validation Epoch [154/200]: 100%|█████████████████████████████████████████████████████████████████| 1/1 [00:00<00:00, 195.85it/s, val_loss=0.01512461]\n",
      "Training Epoch [155/200]: 100%|██████████████████████████████████████████| 59/59 [00:00<00:00, 108.87it/s, train_loss=0.01493982, val_loss=0.01512461]\n",
      "Validation Epoch [155/200]: 100%|█████████████████████████████████████████████████████████████████| 1/1 [00:00<00:00, 221.83it/s, val_loss=0.01511789]\n",
      "Training Epoch [156/200]: 100%|███████████████████████████████████████████| 59/59 [00:00<00:00, 98.70it/s, train_loss=0.01493758, val_loss=0.01511789]\n",
      "Validation Epoch [156/200]: 100%|█████████████████████████████████████████████████████████████████| 1/1 [00:00<00:00, 245.68it/s, val_loss=0.01510490]\n",
      "Training Epoch [157/200]: 100%|██████████████████████████████████████████| 59/59 [00:00<00:00, 107.02it/s, train_loss=0.01492829, val_loss=0.01510490]\n",
      "Validation Epoch [157/200]: 100%|█████████████████████████████████████████████████████████████████| 1/1 [00:00<00:00, 231.26it/s, val_loss=0.01509298]\n",
      "Training Epoch [158/200]: 100%|██████████████████████████████████████████| 59/59 [00:00<00:00, 107.91it/s, train_loss=0.01492176, val_loss=0.01509298]\n",
      "Validation Epoch [158/200]: 100%|█████████████████████████████████████████████████████████████████| 1/1 [00:00<00:00, 230.52it/s, val_loss=0.01510108]\n",
      "Training Epoch [159/200]: 100%|██████████████████████████████████████████| 59/59 [00:00<00:00, 108.59it/s, train_loss=0.01491176, val_loss=0.01510108]\n",
      "Validation Epoch [159/200]: 100%|█████████████████████████████████████████████████████████████████| 1/1 [00:00<00:00, 206.62it/s, val_loss=0.01508440]\n",
      "Training Epoch [160/200]: 100%|██████████████████████████████████████████| 59/59 [00:00<00:00, 110.53it/s, train_loss=0.01487765, val_loss=0.01508440]\n",
      "Validation Epoch [160/200]: 100%|█████████████████████████████████████████████████████████████████| 1/1 [00:00<00:00, 215.24it/s, val_loss=0.01504301]\n",
      "Training Epoch [161/200]: 100%|███████████████████████████████████████████| 59/59 [00:00<00:00, 99.00it/s, train_loss=0.01487149, val_loss=0.01504301]\n",
      "Validation Epoch [161/200]: 100%|█████████████████████████████████████████████████████████████████| 1/1 [00:00<00:00, 224.02it/s, val_loss=0.01503590]\n",
      "Training Epoch [162/200]: 100%|██████████████████████████████████████████| 59/59 [00:00<00:00, 106.70it/s, train_loss=0.01487140, val_loss=0.01503590]\n",
      "Validation Epoch [162/200]: 100%|█████████████████████████████████████████████████████████████████| 1/1 [00:00<00:00, 219.00it/s, val_loss=0.01503818]\n",
      "Training Epoch [163/200]: 100%|███████████████████████████████████████████| 59/59 [00:00<00:00, 96.18it/s, train_loss=0.01486388, val_loss=0.01503818]\n",
      "Validation Epoch [163/200]: 100%|█████████████████████████████████████████████████████████████████| 1/1 [00:00<00:00, 172.48it/s, val_loss=0.01503187]\n",
      "Training Epoch [164/200]: 100%|███████████████████████████████████████████| 59/59 [00:00<00:00, 95.73it/s, train_loss=0.01486309, val_loss=0.01503187]\n",
      "Validation Epoch [164/200]: 100%|█████████████████████████████████████████████████████████████████| 1/1 [00:00<00:00, 196.78it/s, val_loss=0.01501465]\n",
      "Training Epoch [165/200]: 100%|███████████████████████████████████████████| 59/59 [00:00<00:00, 93.99it/s, train_loss=0.01485299, val_loss=0.01501465]\n",
      "Validation Epoch [165/200]: 100%|█████████████████████████████████████████████████████████████████| 1/1 [00:00<00:00, 179.31it/s, val_loss=0.01502799]\n",
      "Training Epoch [166/200]: 100%|███████████████████████████████████████████| 59/59 [00:00<00:00, 97.22it/s, train_loss=0.01484902, val_loss=0.01502799]\n",
      "Validation Epoch [166/200]: 100%|█████████████████████████████████████████████████████████████████| 1/1 [00:00<00:00, 154.68it/s, val_loss=0.01501401]\n",
      "Training Epoch [167/200]: 100%|███████████████████████████████████████████| 59/59 [00:00<00:00, 97.54it/s, train_loss=0.01484561, val_loss=0.01501401]\n",
      "Validation Epoch [167/200]: 100%|█████████████████████████████████████████████████████████████████| 1/1 [00:00<00:00, 221.83it/s, val_loss=0.01500406]\n",
      "Training Epoch [168/200]: 100%|███████████████████████████████████████████| 59/59 [00:00<00:00, 90.26it/s, train_loss=0.01483575, val_loss=0.01500406]\n",
      "Validation Epoch [168/200]: 100%|█████████████████████████████████████████████████████████████████| 1/1 [00:00<00:00, 187.51it/s, val_loss=0.01501032]\n",
      "Training Epoch [169/200]: 100%|███████████████████████████████████████████| 59/59 [00:00<00:00, 80.25it/s, train_loss=0.01483007, val_loss=0.01501032]\n",
      "Validation Epoch [169/200]: 100%|█████████████████████████████████████████████████████████████████| 1/1 [00:00<00:00, 166.08it/s, val_loss=0.01499591]\n",
      "Training Epoch [170/200]: 100%|███████████████████████████████████████████| 59/59 [00:00<00:00, 79.82it/s, train_loss=0.01482492, val_loss=0.01499591]\n",
      "Validation Epoch [170/200]: 100%|█████████████████████████████████████████████████████████████████| 1/1 [00:00<00:00, 101.87it/s, val_loss=0.01499656]\n",
      "Training Epoch [171/200]: 100%|███████████████████████████████████████████| 59/59 [00:00<00:00, 81.54it/s, train_loss=0.01481432, val_loss=0.01499656]\n",
      "Validation Epoch [171/200]: 100%|█████████████████████████████████████████████████████████████████| 1/1 [00:00<00:00, 193.83it/s, val_loss=0.01498802]\n",
      "Training Epoch [172/200]: 100%|███████████████████████████████████████████| 59/59 [00:00<00:00, 88.51it/s, train_loss=0.01481278, val_loss=0.01498802]\n",
      "Validation Epoch [172/200]: 100%|█████████████████████████████████████████████████████████████████| 1/1 [00:00<00:00, 205.17it/s, val_loss=0.01498213]\n",
      "Training Epoch [173/200]: 100%|███████████████████████████████████████████| 59/59 [00:00<00:00, 93.44it/s, train_loss=0.01480692, val_loss=0.01498213]\n",
      "Validation Epoch [173/200]: 100%|█████████████████████████████████████████████████████████████████| 1/1 [00:00<00:00, 205.86it/s, val_loss=0.01498848]\n",
      "Training Epoch [174/200]: 100%|███████████████████████████████████████████| 59/59 [00:00<00:00, 96.84it/s, train_loss=0.01480551, val_loss=0.01498848]\n",
      "Validation Epoch [174/200]: 100%|█████████████████████████████████████████████████████████████████| 1/1 [00:00<00:00, 109.59it/s, val_loss=0.01497429]\n",
      "Training Epoch [175/200]: 100%|███████████████████████████████████████████| 59/59 [00:00<00:00, 98.02it/s, train_loss=0.01480181, val_loss=0.01497429]\n",
      "Validation Epoch [175/200]: 100%|█████████████████████████████████████████████████████████████████| 1/1 [00:00<00:00, 224.01it/s, val_loss=0.01496461]\n",
      "Training Epoch [176/200]: 100%|███████████████████████████████████████████| 59/59 [00:00<00:00, 97.25it/s, train_loss=0.01479204, val_loss=0.01496461]\n",
      "Validation Epoch [176/200]: 100%|█████████████████████████████████████████████████████████████████| 1/1 [00:00<00:00, 217.81it/s, val_loss=0.01496008]\n",
      "Training Epoch [177/200]: 100%|███████████████████████████████████████████| 59/59 [00:00<00:00, 90.49it/s, train_loss=0.01479121, val_loss=0.01496008]\n",
      "Validation Epoch [177/200]: 100%|█████████████████████████████████████████████████████████████████| 1/1 [00:00<00:00, 151.35it/s, val_loss=0.01495954]\n",
      "Training Epoch [178/200]: 100%|███████████████████████████████████████████| 59/59 [00:00<00:00, 76.91it/s, train_loss=0.01478050, val_loss=0.01495954]\n",
      "Validation Epoch [178/200]: 100%|█████████████████████████████████████████████████████████████████| 1/1 [00:00<00:00, 133.42it/s, val_loss=0.01496288]\n",
      "Training Epoch [179/200]: 100%|███████████████████████████████████████████| 59/59 [00:00<00:00, 81.80it/s, train_loss=0.01477768, val_loss=0.01496288]\n",
      "Validation Epoch [179/200]: 100%|██████████████████████████████████████████████████████████████████| 1/1 [00:00<00:00, 89.61it/s, val_loss=0.01496140]\n",
      "Training Epoch [180/200]: 100%|███████████████████████████████████████████| 59/59 [00:00<00:00, 70.75it/s, train_loss=0.01477476, val_loss=0.01496140]\n",
      "Validation Epoch [180/200]: 100%|█████████████████████████████████████████████████████████████████| 1/1 [00:00<00:00, 183.52it/s, val_loss=0.01494752]\n",
      "Training Epoch [181/200]: 100%|███████████████████████████████████████████| 59/59 [00:00<00:00, 93.03it/s, train_loss=0.01477121, val_loss=0.01494752]\n",
      "Validation Epoch [181/200]: 100%|█████████████████████████████████████████████████████████████████| 1/1 [00:00<00:00, 234.75it/s, val_loss=0.01493917]\n",
      "Training Epoch [182/200]: 100%|███████████████████████████████████████████| 59/59 [00:00<00:00, 84.53it/s, train_loss=0.01476490, val_loss=0.01493917]\n",
      "Validation Epoch [182/200]: 100%|█████████████████████████████████████████████████████████████████| 1/1 [00:00<00:00, 193.72it/s, val_loss=0.01494859]\n",
      "Training Epoch [183/200]: 100%|███████████████████████████████████████████| 59/59 [00:00<00:00, 99.49it/s, train_loss=0.01475769, val_loss=0.01494859]\n",
      "Validation Epoch [183/200]: 100%|█████████████████████████████████████████████████████████████████| 1/1 [00:00<00:00, 122.74it/s, val_loss=0.01494515]\n",
      "Training Epoch [184/200]: 100%|███████████████████████████████████████████| 59/59 [00:00<00:00, 98.42it/s, train_loss=0.01475167, val_loss=0.01494515]\n",
      "Validation Epoch [184/200]: 100%|█████████████████████████████████████████████████████████████████| 1/1 [00:00<00:00, 187.27it/s, val_loss=0.01493187]\n",
      "Training Epoch [185/200]: 100%|███████████████████████████████████████████| 59/59 [00:00<00:00, 94.90it/s, train_loss=0.01474920, val_loss=0.01493187]\n",
      "Validation Epoch [185/200]: 100%|█████████████████████████████████████████████████████████████████| 1/1 [00:00<00:00, 211.85it/s, val_loss=0.01492635]\n",
      "Training Epoch [186/200]: 100%|███████████████████████████████████████████| 59/59 [00:00<00:00, 95.47it/s, train_loss=0.01474214, val_loss=0.01492635]\n",
      "Validation Epoch [186/200]: 100%|█████████████████████████████████████████████████████████████████| 1/1 [00:00<00:00, 242.49it/s, val_loss=0.01491801]\n",
      "Training Epoch [187/200]: 100%|███████████████████████████████████████████| 59/59 [00:00<00:00, 97.78it/s, train_loss=0.01474308, val_loss=0.01491801]\n",
      "Validation Epoch [187/200]: 100%|█████████████████████████████████████████████████████████████████| 1/1 [00:00<00:00, 213.04it/s, val_loss=0.01491408]\n",
      "Training Epoch [188/200]: 100%|███████████████████████████████████████████| 59/59 [00:00<00:00, 92.52it/s, train_loss=0.01473343, val_loss=0.01491408]\n",
      "Validation Epoch [188/200]: 100%|█████████████████████████████████████████████████████████████████| 1/1 [00:00<00:00, 126.72it/s, val_loss=0.01491538]\n",
      "Training Epoch [189/200]: 100%|███████████████████████████████████████████| 59/59 [00:00<00:00, 92.40it/s, train_loss=0.01472787, val_loss=0.01491538]\n",
      "Validation Epoch [189/200]: 100%|█████████████████████████████████████████████████████████████████| 1/1 [00:00<00:00, 195.62it/s, val_loss=0.01491932]\n",
      "Training Epoch [190/200]: 100%|███████████████████████████████████████████| 59/59 [00:00<00:00, 93.49it/s, train_loss=0.01472555, val_loss=0.01491932]\n",
      "Validation Epoch [190/200]: 100%|█████████████████████████████████████████████████████████████████| 1/1 [00:00<00:00, 221.34it/s, val_loss=0.01490161]\n",
      "Training Epoch [191/200]: 100%|███████████████████████████████████████████| 59/59 [00:00<00:00, 95.83it/s, train_loss=0.01471874, val_loss=0.01490161]\n",
      "Validation Epoch [191/200]: 100%|█████████████████████████████████████████████████████████████████| 1/1 [00:00<00:00, 228.83it/s, val_loss=0.01491452]\n",
      "Training Epoch [192/200]: 100%|███████████████████████████████████████████| 59/59 [00:00<00:00, 95.33it/s, train_loss=0.01471721, val_loss=0.01491452]\n",
      "Validation Epoch [192/200]: 100%|█████████████████████████████████████████████████████████████████| 1/1 [00:00<00:00, 176.36it/s, val_loss=0.01488377]\n",
      "Training Epoch [193/200]: 100%|███████████████████████████████████████████| 59/59 [00:00<00:00, 90.91it/s, train_loss=0.01470804, val_loss=0.01488377]\n",
      "Validation Epoch [193/200]: 100%|██████████████████████████████████████████████████████████████████| 1/1 [00:00<00:00, 93.60it/s, val_loss=0.01489025]\n",
      "Training Epoch [194/200]: 100%|███████████████████████████████████████████| 59/59 [00:00<00:00, 95.66it/s, train_loss=0.01471049, val_loss=0.01489025]\n",
      "Validation Epoch [194/200]: 100%|█████████████████████████████████████████████████████████████████| 1/1 [00:00<00:00, 120.08it/s, val_loss=0.01488356]\n",
      "Training Epoch [195/200]: 100%|███████████████████████████████████████████| 59/59 [00:00<00:00, 84.58it/s, train_loss=0.01470261, val_loss=0.01488356]\n",
      "Validation Epoch [195/200]: 100%|█████████████████████████████████████████████████████████████████| 1/1 [00:00<00:00, 226.71it/s, val_loss=0.01487539]\n",
      "Training Epoch [196/200]: 100%|███████████████████████████████████████████| 59/59 [00:00<00:00, 97.45it/s, train_loss=0.01469779, val_loss=0.01487539]\n",
      "Validation Epoch [196/200]: 100%|█████████████████████████████████████████████████████████████████| 1/1 [00:00<00:00, 197.20it/s, val_loss=0.01488102]\n",
      "Training Epoch [197/200]: 100%|███████████████████████████████████████████| 59/59 [00:00<00:00, 93.04it/s, train_loss=0.01469474, val_loss=0.01488102]\n",
      "Validation Epoch [197/200]: 100%|█████████████████████████████████████████████████████████████████| 1/1 [00:00<00:00, 199.83it/s, val_loss=0.01487504]\n",
      "Training Epoch [198/200]: 100%|███████████████████████████████████████████| 59/59 [00:00<00:00, 97.17it/s, train_loss=0.01468985, val_loss=0.01487504]\n",
      "Validation Epoch [198/200]: 100%|█████████████████████████████████████████████████████████████████| 1/1 [00:00<00:00, 194.48it/s, val_loss=0.01486203]\n",
      "Training Epoch [199/200]: 100%|███████████████████████████████████████████| 59/59 [00:00<00:00, 82.95it/s, train_loss=0.01468105, val_loss=0.01486203]\n",
      "Validation Epoch [199/200]: 100%|█████████████████████████████████████████████████████████████████| 1/1 [00:00<00:00, 209.61it/s, val_loss=0.01485395]"
     ]
    },
    {
     "name": "stdout",
     "output_type": "stream",
     "text": [
      "Finished training!\n"
     ]
    },
    {
     "name": "stderr",
     "output_type": "stream",
     "text": [
      "\n"
     ]
    }
   ],
   "source": [
    "encoder_pretrained = Encoder(hparams).to(device)\n",
    "decoder = Decoder(hparams).to(device)\n",
    "autoencoder = Autoencoder(hparams, encoder_pretrained, decoder).to(device)\n",
    "\n",
    "def train_model(model, train_loader, val_loader, loss_func, tb_logger, epochs=10, name='Autoencoder'):\n",
    "    \n",
    "    optimizer = model.optimizer\n",
    "    scheduler = torch.optim.lr_scheduler.StepLR(optimizer, step_size=epochs * len(train_loader) / 5, gamma=0.7)\n",
    "    validation_loss = 0\n",
    "    model = model.to(device)\n",
    "    for epoch in range(epochs):\n",
    "        \n",
    "        # Train\n",
    "        training_loop = create_tqdm_bar(train_loader, desc=f'Training Epoch [{epoch}/{epochs}]')\n",
    "        training_loss = 0\n",
    "        for train_iteration, batch in training_loop:\n",
    "            loss = model.training_step(batch, loss_func) # You need to implement this function.\n",
    "            training_loss += loss.item()\n",
    "            scheduler.step()\n",
    "\n",
    "            # Update the progress bar.\n",
    "            training_loop.set_postfix(train_loss = \"{:.8f}\".format(training_loss / (train_iteration + 1)), val_loss = \"{:.8f}\".format(validation_loss))\n",
    "\n",
    "            # Update the tensorboard logger.\n",
    "            tb_logger.add_scalar(f'{name}/train_loss', loss.item(), epoch * len(train_loader) + train_iteration)\n",
    "\n",
    "        # Validation\n",
    "        val_loop = create_tqdm_bar(val_loader, desc=f'Validation Epoch [{epoch}/{epochs}]')\n",
    "        validation_loss = 0\n",
    "        with torch.no_grad():\n",
    "            for val_iteration, batch in val_loop:\n",
    "                loss = model.validation_step(batch, loss_func) # You need to implement this function.\n",
    "                validation_loss += loss.item()\n",
    "\n",
    "                # Update the progress bar.\n",
    "                val_loop.set_postfix(val_loss = \"{:.8f}\".format(validation_loss / (val_iteration + 1)))\n",
    "\n",
    "                # Update the tensorboard logger.\n",
    "                tb_logger.add_scalar(f'{name}/val_loss', validation_loss / (val_iteration + 1), epoch * len(val_loader) + val_iteration)\n",
    "        # This value is for the progress bar of the training loop.\n",
    "        validation_loss /= len(val_loader)\n",
    "\n",
    "# Create a tensorboard logger.\n",
    "# NOTE: In order to see the logs, run the following command in the terminal: tensorboard --logdir=./\n",
    "# Also, in order to reset the logs, delete the logs folder MANUALLY.\n",
    "\n",
    "path = os.path.join('logs', 'ae_logs')\n",
    "num_of_runs = len(os.listdir(path)) if os.path.exists(path) else 0\n",
    "path = os.path.join(path, f'run_{num_of_runs + 1}')\n",
    "tb_logger = SummaryWriter(path)\n",
    "\n",
    "# Train the classifier.\n",
    "unlabled_train_loader = torch.utils.data.DataLoader(unlabeled_train, batch_size=hparams['batch_size'], shuffle=True)\n",
    "unlabled_val_loader = torch.utils.data.DataLoader(unlabeled_val, batch_size=hparams['batch_size'], shuffle=False)\n",
    "\n",
    "epochs = hparams.get('epochs', 5)\n",
    "loss_func = nn.MSELoss() # The loss function we use for regression (Could also be nn.L1Loss()).\n",
    "train_model(autoencoder, unlabled_train_loader, unlabled_val_loader, loss_func, tb_logger, epochs=epochs, name='Autoencoder')\n",
    "\n",
    "print(\"Finished training!\")"
   ]
  },
  {
   "attachments": {},
   "cell_type": "markdown",
   "metadata": {
    "id": "vdgiYWy4MNkq"
   },
   "source": [
    "Once trained, let's have a look at the reconstructed validation images (If you have not already looked at them in TensorBoard)."
   ]
  },
  {
   "cell_type": "code",
   "execution_count": 14,
   "metadata": {
    "id": "a991mKcyMNkq"
   },
   "outputs": [
    {
     "data": {
      "image/png": "[encoded data removed]",
      "text/plain": [
       "<Figure size 1600x1600 with 64 Axes>"
      ]
     },
     "metadata": {},
     "output_type": "display_data"
    }
   ],
   "source": [
    "reconstructions = autoencoder.getReconstructions(unlabled_val_loader)\n",
    "for i in range(64):\n",
    "    plt.subplot(8,8,i+1)\n",
    "    plt.axis('off')\n",
    "    plt.imshow(reconstructions[i], cmap='gray', interpolation='none')\n",
    "    \n",
    "plt.tight_layout()"
   ]
  },
  {
   "attachments": {},
   "cell_type": "markdown",
   "metadata": {
    "id": "R2hrP5b1MNkr"
   },
   "source": [
    "# 4. Transfer Learning\n",
    "\n",
    "## 4.1 The pretrained Classifier\n",
    "\n",
    "Now we initialize another classifier but this time with the pretrained encoder."
   ]
  },
  {
   "cell_type": "code",
   "execution_count": 15,
   "metadata": {
    "id": "OELYQAUmMNkr"
   },
   "outputs": [],
   "source": [
    "from exercise_code.models import Classifier\n",
    "from copy import deepcopy\n",
    "\n",
    "hparams = {}\n",
    "########################################################################\n",
    "# TODO: Define your hyperparameters here!                             #\n",
    "########################################################################\n",
    "\n",
    "hparams['batch_size'] = 100\n",
    "hparams['epochs'] = 100\n",
    "\n",
    "hparams['encoder_n_hidden'] = 128\n",
    "hparams['classifier_n_hidden'] = 128\n",
    "hparams['encoder_lr'] = 0.001\n",
    "hparams['classifier_lr'] = 0.001\n",
    "\n",
    "########################################################################\n",
    "#                           END OF YOUR CODE                           #\n",
    "########################################################################\n",
    "\n",
    "encoder_pretrained_copy = deepcopy(encoder_pretrained)\n",
    "classifier_pretrained = Classifier(hparams, encoder_pretrained_copy).to(device)"
   ]
  },
  {
   "attachments": {},
   "cell_type": "markdown",
   "metadata": {
    "id": "R8FUtih6MNks"
   },
   "source": [
    "Let's define another trainer that will utilize the pretrained classifier, allowing us to compare its performance with the classifier trained only on the labeled data. To achieve a reasonable result, you may need to optimize the parameters you defined earlier."
   ]
  },
  {
   "cell_type": "code",
   "execution_count": 16,
   "metadata": {
    "id": "Mx_euorWMNks"
   },
   "outputs": [
    {
     "name": "stderr",
     "output_type": "stream",
     "text": [
      "Training Epoch [1/100]: 100%|██████████████████████████████████████████| 1/1 [00:00<00:00,  9.33it/s, curr_train_loss=2.30268621, val_loss=0.00000000]\n",
      "Validation Epoch [1/100]: 100%|████████████████████████████████████████████████████████████████████| 1/1 [00:00<00:00,  9.28it/s, val_loss=2.27653813]\n",
      "Training Epoch [2/100]: 100%|██████████████████████████████████████████| 1/1 [00:00<00:00,  9.20it/s, curr_train_loss=2.21257663, val_loss=2.27653813]\n",
      "Validation Epoch [2/100]: 100%|████████████████████████████████████████████████████████████████████| 1/1 [00:00<00:00,  9.27it/s, val_loss=2.26553893]\n",
      "Training Epoch [3/100]: 100%|██████████████████████████████████████████| 1/1 [00:00<00:00,  9.17it/s, curr_train_loss=2.14449430, val_loss=2.26553893]\n",
      "Validation Epoch [3/100]: 100%|████████████████████████████████████████████████████████████████████| 1/1 [00:00<00:00,  9.32it/s, val_loss=2.25560164]\n",
      "Training Epoch [4/100]: 100%|██████████████████████████████████████████| 1/1 [00:00<00:00,  9.16it/s, curr_train_loss=2.08535767, val_loss=2.25560164]\n",
      "Validation Epoch [4/100]: 100%|████████████████████████████████████████████████████████████████████| 1/1 [00:00<00:00,  9.32it/s, val_loss=2.23968148]\n",
      "Training Epoch [5/100]: 100%|██████████████████████████████████████████| 1/1 [00:00<00:00,  9.14it/s, curr_train_loss=2.02361894, val_loss=2.23968148]\n",
      "Validation Epoch [5/100]: 100%|████████████████████████████████████████████████████████████████████| 1/1 [00:00<00:00,  9.61it/s, val_loss=2.21778107]\n",
      "Training Epoch [6/100]: 100%|██████████████████████████████████████████| 1/1 [00:00<00:00,  9.24it/s, curr_train_loss=1.95739710, val_loss=2.21778107]\n",
      "Validation Epoch [6/100]: 100%|████████████████████████████████████████████████████████████████████| 1/1 [00:00<00:00,  9.34it/s, val_loss=2.19346023]\n",
      "Training Epoch [7/100]: 100%|██████████████████████████████████████████| 1/1 [00:00<00:00,  9.22it/s, curr_train_loss=1.88966548, val_loss=2.19346023]\n",
      "Validation Epoch [7/100]: 100%|████████████████████████████████████████████████████████████████████| 1/1 [00:00<00:00,  9.46it/s, val_loss=2.16370153]\n",
      "Training Epoch [8/100]: 100%|██████████████████████████████████████████| 1/1 [00:00<00:00,  9.22it/s, curr_train_loss=1.81797302, val_loss=2.16370153]\n",
      "Validation Epoch [8/100]: 100%|████████████████████████████████████████████████████████████████████| 1/1 [00:00<00:00,  9.70it/s, val_loss=2.12363625]\n",
      "Training Epoch [9/100]: 100%|██████████████████████████████████████████| 1/1 [00:00<00:00,  9.34it/s, curr_train_loss=1.73913395, val_loss=2.12363625]\n",
      "Validation Epoch [9/100]: 100%|████████████████████████████████████████████████████████████████████| 1/1 [00:00<00:00,  9.31it/s, val_loss=2.07710361]\n",
      "Training Epoch [10/100]: 100%|█████████████████████████████████████████| 1/1 [00:00<00:00,  9.23it/s, curr_train_loss=1.65512180, val_loss=2.07710361]\n",
      "Validation Epoch [10/100]: 100%|███████████████████████████████████████████████████████████████████| 1/1 [00:00<00:00,  9.63it/s, val_loss=2.02671814]\n",
      "Training Epoch [11/100]: 100%|█████████████████████████████████████████| 1/1 [00:00<00:00,  9.18it/s, curr_train_loss=1.56825697, val_loss=2.02671814]\n",
      "Validation Epoch [11/100]: 100%|███████████████████████████████████████████████████████████████████| 1/1 [00:00<00:00,  9.30it/s, val_loss=1.97327662]\n",
      "Training Epoch [12/100]: 100%|█████████████████████████████████████████| 1/1 [00:00<00:00,  9.35it/s, curr_train_loss=1.47790921, val_loss=1.97327662]\n",
      "Validation Epoch [12/100]: 100%|███████████████████████████████████████████████████████████████████| 1/1 [00:00<00:00,  9.62it/s, val_loss=1.91619384]\n",
      "Training Epoch [13/100]: 100%|█████████████████████████████████████████| 1/1 [00:00<00:00,  9.38it/s, curr_train_loss=1.38378668, val_loss=1.91619384]\n",
      "Validation Epoch [13/100]: 100%|███████████████████████████████████████████████████████████████████| 1/1 [00:00<00:00,  9.32it/s, val_loss=1.85731328]\n",
      "Training Epoch [14/100]: 100%|█████████████████████████████████████████| 1/1 [00:00<00:00,  9.25it/s, curr_train_loss=1.28957045, val_loss=1.85731328]\n",
      "Validation Epoch [14/100]: 100%|███████████████████████████████████████████████████████████████████| 1/1 [00:00<00:00,  9.33it/s, val_loss=1.79724181]\n",
      "Training Epoch [15/100]: 100%|█████████████████████████████████████████| 1/1 [00:00<00:00,  9.19it/s, curr_train_loss=1.19639027, val_loss=1.79724181]\n",
      "Validation Epoch [15/100]: 100%|███████████████████████████████████████████████████████████████████| 1/1 [00:00<00:00,  9.34it/s, val_loss=1.73434591]\n",
      "Training Epoch [16/100]: 100%|█████████████████████████████████████████| 1/1 [00:00<00:00,  9.24it/s, curr_train_loss=1.10358763, val_loss=1.73434591]\n",
      "Validation Epoch [16/100]: 100%|███████████████████████████████████████████████████████████████████| 1/1 [00:00<00:00,  9.30it/s, val_loss=1.66900206]\n",
      "Training Epoch [17/100]: 100%|█████████████████████████████████████████| 1/1 [00:00<00:00,  9.25it/s, curr_train_loss=1.01123691, val_loss=1.66900206]\n",
      "Validation Epoch [17/100]: 100%|███████████████████████████████████████████████████████████████████| 1/1 [00:00<00:00,  9.57it/s, val_loss=1.60461867]\n",
      "Training Epoch [18/100]: 100%|█████████████████████████████████████████| 1/1 [00:00<00:00,  9.13it/s, curr_train_loss=0.92102426, val_loss=1.60461867]\n",
      "Validation Epoch [18/100]: 100%|███████████████████████████████████████████████████████████████████| 1/1 [00:00<00:00,  9.31it/s, val_loss=1.54269755]\n",
      "Training Epoch [19/100]: 100%|█████████████████████████████████████████| 1/1 [00:00<00:00,  9.19it/s, curr_train_loss=0.83339691, val_loss=1.54269755]\n",
      "Validation Epoch [19/100]: 100%|███████████████████████████████████████████████████████████████████| 1/1 [00:00<00:00,  9.38it/s, val_loss=1.47968388]\n",
      "Training Epoch [20/100]: 100%|█████████████████████████████████████████| 1/1 [00:00<00:00,  9.27it/s, curr_train_loss=0.75005829, val_loss=1.47968388]\n",
      "Validation Epoch [20/100]: 100%|███████████████████████████████████████████████████████████████████| 1/1 [00:00<00:00,  9.34it/s, val_loss=1.41222286]\n",
      "Training Epoch [21/100]: 100%|█████████████████████████████████████████| 1/1 [00:00<00:00,  9.19it/s, curr_train_loss=0.67162722, val_loss=1.41222286]\n",
      "Validation Epoch [21/100]: 100%|███████████████████████████████████████████████████████████████████| 1/1 [00:00<00:00,  9.34it/s, val_loss=1.34404063]\n",
      "Training Epoch [22/100]: 100%|█████████████████████████████████████████| 1/1 [00:00<00:00,  9.14it/s, curr_train_loss=0.59786737, val_loss=1.34404063]\n",
      "Validation Epoch [22/100]: 100%|███████████████████████████████████████████████████████████████████| 1/1 [00:00<00:00,  9.34it/s, val_loss=1.28675890]\n",
      "Training Epoch [23/100]: 100%|█████████████████████████████████████████| 1/1 [00:00<00:00,  9.25it/s, curr_train_loss=0.53120649, val_loss=1.28675890]\n",
      "Validation Epoch [23/100]: 100%|███████████████████████████████████████████████████████████████████| 1/1 [00:00<00:00,  9.35it/s, val_loss=1.24933708]\n",
      "Training Epoch [24/100]: 100%|█████████████████████████████████████████| 1/1 [00:00<00:00,  9.18it/s, curr_train_loss=0.47008774, val_loss=1.24933708]\n",
      "Validation Epoch [24/100]: 100%|███████████████████████████████████████████████████████████████████| 1/1 [00:00<00:00,  9.33it/s, val_loss=1.23363638]\n",
      "Training Epoch [25/100]: 100%|█████████████████████████████████████████| 1/1 [00:00<00:00,  9.20it/s, curr_train_loss=0.41441935, val_loss=1.23363638]\n",
      "Validation Epoch [25/100]: 100%|███████████████████████████████████████████████████████████████████| 1/1 [00:00<00:00,  9.33it/s, val_loss=1.22932398]\n",
      "Training Epoch [26/100]: 100%|█████████████████████████████████████████| 1/1 [00:00<00:00,  9.19it/s, curr_train_loss=0.36414504, val_loss=1.22932398]\n",
      "Validation Epoch [26/100]: 100%|███████████████████████████████████████████████████████████████████| 1/1 [00:00<00:00,  9.34it/s, val_loss=1.22617841]\n",
      "Training Epoch [27/100]: 100%|█████████████████████████████████████████| 1/1 [00:00<00:00,  9.47it/s, curr_train_loss=0.31840029, val_loss=1.22617841]\n",
      "Validation Epoch [27/100]: 100%|███████████████████████████████████████████████████████████████████| 1/1 [00:00<00:00,  9.66it/s, val_loss=1.22634625]\n",
      "Training Epoch [28/100]: 100%|█████████████████████████████████████████| 1/1 [00:00<00:00,  9.16it/s, curr_train_loss=0.27830732, val_loss=1.22634625]\n",
      "Validation Epoch [28/100]: 100%|███████████████████████████████████████████████████████████████████| 1/1 [00:00<00:00,  9.34it/s, val_loss=1.23161435]\n",
      "Training Epoch [29/100]: 100%|█████████████████████████████████████████| 1/1 [00:00<00:00,  9.22it/s, curr_train_loss=0.24236584, val_loss=1.23161435]\n",
      "Validation Epoch [29/100]: 100%|███████████████████████████████████████████████████████████████████| 1/1 [00:00<00:00,  9.34it/s, val_loss=1.24805069]\n",
      "Training Epoch [30/100]: 100%|█████████████████████████████████████████| 1/1 [00:00<00:00,  9.17it/s, curr_train_loss=0.21071503, val_loss=1.24805069]\n",
      "Validation Epoch [30/100]: 100%|███████████████████████████████████████████████████████████████████| 1/1 [00:00<00:00,  9.35it/s, val_loss=1.27346492]\n",
      "Training Epoch [31/100]: 100%|█████████████████████████████████████████| 1/1 [00:00<00:00,  9.39it/s, curr_train_loss=0.18200329, val_loss=1.27346492]\n",
      "Validation Epoch [31/100]: 100%|███████████████████████████████████████████████████████████████████| 1/1 [00:00<00:00,  9.31it/s, val_loss=1.29499435]\n",
      "Training Epoch [32/100]: 100%|█████████████████████████████████████████| 1/1 [00:00<00:00,  9.17it/s, curr_train_loss=0.15639101, val_loss=1.29499435]\n",
      "Validation Epoch [32/100]: 100%|███████████████████████████████████████████████████████████████████| 1/1 [00:00<00:00,  9.34it/s, val_loss=1.30259013]\n",
      "Training Epoch [33/100]: 100%|█████████████████████████████████████████| 1/1 [00:00<00:00,  9.20it/s, curr_train_loss=0.13335423, val_loss=1.30259013]\n",
      "Validation Epoch [33/100]: 100%|███████████████████████████████████████████████████████████████████| 1/1 [00:00<00:00,  9.43it/s, val_loss=1.30151510]\n",
      "Training Epoch [34/100]: 100%|█████████████████████████████████████████| 1/1 [00:00<00:00,  9.42it/s, curr_train_loss=0.11286300, val_loss=1.30151510]\n",
      "Validation Epoch [34/100]: 100%|███████████████████████████████████████████████████████████████████| 1/1 [00:00<00:00,  9.47it/s, val_loss=1.30742157]\n",
      "Training Epoch [35/100]: 100%|█████████████████████████████████████████| 1/1 [00:00<00:00,  9.26it/s, curr_train_loss=0.09523679, val_loss=1.30742157]\n",
      "Validation Epoch [35/100]: 100%|███████████████████████████████████████████████████████████████████| 1/1 [00:00<00:00,  9.34it/s, val_loss=1.32351542]\n",
      "Training Epoch [36/100]: 100%|█████████████████████████████████████████| 1/1 [00:00<00:00,  9.29it/s, curr_train_loss=0.07989606, val_loss=1.32351542]\n",
      "Validation Epoch [36/100]: 100%|███████████████████████████████████████████████████████████████████| 1/1 [00:00<00:00,  9.33it/s, val_loss=1.34297550]\n",
      "Training Epoch [37/100]: 100%|█████████████████████████████████████████| 1/1 [00:00<00:00,  9.25it/s, curr_train_loss=0.06672890, val_loss=1.34297550]\n",
      "Validation Epoch [37/100]: 100%|███████████████████████████████████████████████████████████████████| 1/1 [00:00<00:00,  9.34it/s, val_loss=1.36378932]\n",
      "Training Epoch [38/100]: 100%|█████████████████████████████████████████| 1/1 [00:00<00:00,  9.26it/s, curr_train_loss=0.05567510, val_loss=1.36378932]\n",
      "Validation Epoch [38/100]: 100%|███████████████████████████████████████████████████████████████████| 1/1 [00:00<00:00,  9.62it/s, val_loss=1.38588285]\n",
      "Training Epoch [39/100]: 100%|█████████████████████████████████████████| 1/1 [00:00<00:00,  9.20it/s, curr_train_loss=0.04617448, val_loss=1.38588285]\n",
      "Validation Epoch [39/100]: 100%|███████████████████████████████████████████████████████████████████| 1/1 [00:00<00:00,  9.49it/s, val_loss=1.40943050]\n",
      "Training Epoch [40/100]: 100%|█████████████████████████████████████████| 1/1 [00:00<00:00,  9.27it/s, curr_train_loss=0.03819147, val_loss=1.40943050]\n",
      "Validation Epoch [40/100]: 100%|███████████████████████████████████████████████████████████████████| 1/1 [00:00<00:00,  9.47it/s, val_loss=1.43312287]\n",
      "Training Epoch [41/100]: 100%|█████████████████████████████████████████| 1/1 [00:00<00:00,  9.11it/s, curr_train_loss=0.03156313, val_loss=1.43312287]\n",
      "Validation Epoch [41/100]: 100%|███████████████████████████████████████████████████████████████████| 1/1 [00:00<00:00,  9.32it/s, val_loss=1.45670640]\n",
      "Training Epoch [42/100]: 100%|█████████████████████████████████████████| 1/1 [00:00<00:00,  9.20it/s, curr_train_loss=0.02595096, val_loss=1.45670640]\n",
      "Validation Epoch [42/100]: 100%|███████████████████████████████████████████████████████████████████| 1/1 [00:00<00:00,  9.35it/s, val_loss=1.48384798]\n",
      "Training Epoch [43/100]: 100%|█████████████████████████████████████████| 1/1 [00:00<00:00,  8.89it/s, curr_train_loss=0.02117853, val_loss=1.48384798]\n",
      "Validation Epoch [43/100]: 100%|███████████████████████████████████████████████████████████████████| 1/1 [00:00<00:00,  9.36it/s, val_loss=1.51474798]\n",
      "Training Epoch [44/100]: 100%|█████████████████████████████████████████| 1/1 [00:00<00:00,  9.24it/s, curr_train_loss=0.01718308, val_loss=1.51474798]\n",
      "Validation Epoch [44/100]: 100%|███████████████████████████████████████████████████████████████████| 1/1 [00:00<00:00,  9.33it/s, val_loss=1.54782832]\n",
      "Training Epoch [45/100]: 100%|█████████████████████████████████████████| 1/1 [00:00<00:00,  9.66it/s, curr_train_loss=0.01397991, val_loss=1.54782832]\n",
      "Validation Epoch [45/100]: 100%|███████████████████████████████████████████████████████████████████| 1/1 [00:00<00:00,  9.35it/s, val_loss=1.58001018]\n",
      "Training Epoch [46/100]: 100%|█████████████████████████████████████████| 1/1 [00:00<00:00,  9.26it/s, curr_train_loss=0.01140464, val_loss=1.58001018]\n",
      "Validation Epoch [46/100]: 100%|███████████████████████████████████████████████████████████████████| 1/1 [00:00<00:00,  9.59it/s, val_loss=1.60907841]\n",
      "Training Epoch [47/100]: 100%|█████████████████████████████████████████| 1/1 [00:00<00:00,  9.19it/s, curr_train_loss=0.00933362, val_loss=1.60907841]\n",
      "Validation Epoch [47/100]: 100%|███████████████████████████████████████████████████████████████████| 1/1 [00:00<00:00,  9.33it/s, val_loss=1.63578737]\n",
      "Training Epoch [48/100]: 100%|█████████████████████████████████████████| 1/1 [00:00<00:00,  9.19it/s, curr_train_loss=0.00769497, val_loss=1.63578737]\n",
      "Validation Epoch [48/100]: 100%|███████████████████████████████████████████████████████████████████| 1/1 [00:00<00:00,  9.33it/s, val_loss=1.66114628]\n",
      "Training Epoch [49/100]: 100%|█████████████████████████████████████████| 1/1 [00:00<00:00,  9.19it/s, curr_train_loss=0.00640305, val_loss=1.66114628]\n",
      "Validation Epoch [49/100]: 100%|███████████████████████████████████████████████████████████████████| 1/1 [00:00<00:00,  9.63it/s, val_loss=1.68637264]\n",
      "Training Epoch [50/100]: 100%|█████████████████████████████████████████| 1/1 [00:00<00:00,  9.17it/s, curr_train_loss=0.00537603, val_loss=1.68637264]\n",
      "Validation Epoch [50/100]: 100%|███████████████████████████████████████████████████████████████████| 1/1 [00:00<00:00,  9.35it/s, val_loss=1.71111560]\n",
      "Training Epoch [51/100]: 100%|█████████████████████████████████████████| 1/1 [00:00<00:00,  9.16it/s, curr_train_loss=0.00454942, val_loss=1.71111560]\n",
      "Validation Epoch [51/100]: 100%|███████████████████████████████████████████████████████████████████| 1/1 [00:00<00:00,  9.31it/s, val_loss=1.73461044]\n",
      "Training Epoch [52/100]: 100%|█████████████████████████████████████████| 1/1 [00:00<00:00,  9.18it/s, curr_train_loss=0.00388982, val_loss=1.73461044]\n",
      "Validation Epoch [52/100]: 100%|███████████████████████████████████████████████████████████████████| 1/1 [00:00<00:00,  9.34it/s, val_loss=1.75641048]\n",
      "Training Epoch [53/100]: 100%|█████████████████████████████████████████| 1/1 [00:00<00:00,  9.24it/s, curr_train_loss=0.00336297, val_loss=1.75641048]\n",
      "Validation Epoch [53/100]: 100%|███████████████████████████████████████████████████████████████████| 1/1 [00:00<00:00,  9.33it/s, val_loss=1.77644491]\n",
      "Training Epoch [54/100]: 100%|█████████████████████████████████████████| 1/1 [00:00<00:00,  9.22it/s, curr_train_loss=0.00293971, val_loss=1.77644491]\n",
      "Validation Epoch [54/100]: 100%|███████████████████████████████████████████████████████████████████| 1/1 [00:00<00:00,  9.32it/s, val_loss=1.79502070]\n",
      "Training Epoch [55/100]: 100%|█████████████████████████████████████████| 1/1 [00:00<00:00,  9.20it/s, curr_train_loss=0.00259630, val_loss=1.79502070]\n",
      "Validation Epoch [55/100]: 100%|███████████████████████████████████████████████████████████████████| 1/1 [00:00<00:00,  9.28it/s, val_loss=1.81248367]\n",
      "Training Epoch [56/100]: 100%|█████████████████████████████████████████| 1/1 [00:00<00:00,  9.25it/s, curr_train_loss=0.00231452, val_loss=1.81248367]\n",
      "Validation Epoch [56/100]: 100%|███████████████████████████████████████████████████████████████████| 1/1 [00:00<00:00,  9.44it/s, val_loss=1.82913411]\n",
      "Training Epoch [57/100]: 100%|█████████████████████████████████████████| 1/1 [00:00<00:00,  9.14it/s, curr_train_loss=0.00208160, val_loss=1.82913411]\n",
      "Validation Epoch [57/100]: 100%|███████████████████████████████████████████████████████████████████| 1/1 [00:00<00:00,  9.30it/s, val_loss=1.84492838]\n",
      "Training Epoch [58/100]: 100%|█████████████████████████████████████████| 1/1 [00:00<00:00,  9.17it/s, curr_train_loss=0.00188736, val_loss=1.84492838]\n",
      "Validation Epoch [58/100]: 100%|███████████████████████████████████████████████████████████████████| 1/1 [00:00<00:00,  9.09it/s, val_loss=1.86006749]\n",
      "Training Epoch [59/100]: 100%|█████████████████████████████████████████| 1/1 [00:00<00:00,  9.40it/s, curr_train_loss=0.00172279, val_loss=1.86006749]\n",
      "Validation Epoch [59/100]: 100%|███████████████████████████████████████████████████████████████████| 1/1 [00:00<00:00,  9.36it/s, val_loss=1.87452817]\n",
      "Training Epoch [60/100]: 100%|█████████████████████████████████████████| 1/1 [00:00<00:00,  9.22it/s, curr_train_loss=0.00158244, val_loss=1.87452817]\n",
      "Validation Epoch [60/100]: 100%|███████████████████████████████████████████████████████████████████| 1/1 [00:00<00:00,  9.32it/s, val_loss=1.88809788]\n",
      "Training Epoch [61/100]: 100%|█████████████████████████████████████████| 1/1 [00:00<00:00,  9.45it/s, curr_train_loss=0.00146192, val_loss=1.88809788]\n",
      "Validation Epoch [61/100]: 100%|███████████████████████████████████████████████████████████████████| 1/1 [00:00<00:00,  9.58it/s, val_loss=1.90084624]\n",
      "Training Epoch [62/100]: 100%|█████████████████████████████████████████| 1/1 [00:00<00:00,  9.22it/s, curr_train_loss=0.00135820, val_loss=1.90084624]\n",
      "Validation Epoch [62/100]: 100%|███████████████████████████████████████████████████████████████████| 1/1 [00:00<00:00,  9.59it/s, val_loss=1.91257310]\n",
      "Training Epoch [63/100]: 100%|█████████████████████████████████████████| 1/1 [00:00<00:00,  9.16it/s, curr_train_loss=0.00126819, val_loss=1.91257310]\n",
      "Validation Epoch [63/100]: 100%|███████████████████████████████████████████████████████████████████| 1/1 [00:00<00:00,  8.45it/s, val_loss=1.92314863]\n",
      "Training Epoch [64/100]: 100%|█████████████████████████████████████████| 1/1 [00:00<00:00,  9.32it/s, curr_train_loss=0.00118933, val_loss=1.92314863]\n",
      "Validation Epoch [64/100]: 100%|███████████████████████████████████████████████████████████████████| 1/1 [00:00<00:00,  9.50it/s, val_loss=1.93246341]\n",
      "Training Epoch [65/100]: 100%|█████████████████████████████████████████| 1/1 [00:00<00:00,  9.17it/s, curr_train_loss=0.00111933, val_loss=1.93246341]\n",
      "Validation Epoch [65/100]: 100%|███████████████████████████████████████████████████████████████████| 1/1 [00:00<00:00,  9.29it/s, val_loss=1.94053543]\n",
      "Training Epoch [66/100]: 100%|█████████████████████████████████████████| 1/1 [00:00<00:00,  9.22it/s, curr_train_loss=0.00105679, val_loss=1.94053543]\n",
      "Validation Epoch [66/100]: 100%|███████████████████████████████████████████████████████████████████| 1/1 [00:00<00:00,  9.36it/s, val_loss=1.94743526]\n",
      "Training Epoch [67/100]: 100%|█████████████████████████████████████████| 1/1 [00:00<00:00,  9.13it/s, curr_train_loss=0.00100032, val_loss=1.94743526]\n",
      "Validation Epoch [67/100]: 100%|███████████████████████████████████████████████████████████████████| 1/1 [00:00<00:00,  9.49it/s, val_loss=1.95329392]\n",
      "Training Epoch [68/100]: 100%|█████████████████████████████████████████| 1/1 [00:00<00:00,  9.08it/s, curr_train_loss=0.00094943, val_loss=1.95329392]\n",
      "Validation Epoch [68/100]: 100%|███████████████████████████████████████████████████████████████████| 1/1 [00:00<00:00,  9.27it/s, val_loss=1.95828032]\n",
      "Training Epoch [69/100]: 100%|█████████████████████████████████████████| 1/1 [00:00<00:00,  8.35it/s, curr_train_loss=0.00090352, val_loss=1.95828032]\n",
      "Validation Epoch [69/100]: 100%|███████████████████████████████████████████████████████████████████| 1/1 [00:00<00:00,  9.45it/s, val_loss=1.96250153]\n",
      "Training Epoch [70/100]: 100%|█████████████████████████████████████████| 1/1 [00:00<00:00,  9.24it/s, curr_train_loss=0.00086221, val_loss=1.96250153]\n",
      "Validation Epoch [70/100]: 100%|███████████████████████████████████████████████████████████████████| 1/1 [00:00<00:00,  9.71it/s, val_loss=1.96602523]\n",
      "Training Epoch [71/100]: 100%|█████████████████████████████████████████| 1/1 [00:00<00:00,  9.07it/s, curr_train_loss=0.00082508, val_loss=1.96602523]\n",
      "Validation Epoch [71/100]: 100%|███████████████████████████████████████████████████████████████████| 1/1 [00:00<00:00,  9.68it/s, val_loss=1.96903646]\n",
      "Training Epoch [72/100]: 100%|█████████████████████████████████████████| 1/1 [00:00<00:00,  9.24it/s, curr_train_loss=0.00079171, val_loss=1.96903646]\n",
      "Validation Epoch [72/100]: 100%|███████████████████████████████████████████████████████████████████| 1/1 [00:00<00:00,  9.30it/s, val_loss=1.97159839]\n",
      "Training Epoch [73/100]: 100%|█████████████████████████████████████████| 1/1 [00:00<00:00,  9.29it/s, curr_train_loss=0.00076151, val_loss=1.97159839]\n",
      "Validation Epoch [73/100]: 100%|███████████████████████████████████████████████████████████████████| 1/1 [00:00<00:00,  9.33it/s, val_loss=1.97372603]\n",
      "Training Epoch [74/100]: 100%|█████████████████████████████████████████| 1/1 [00:00<00:00,  9.23it/s, curr_train_loss=0.00073397, val_loss=1.97372603]\n",
      "Validation Epoch [74/100]: 100%|███████████████████████████████████████████████████████████████████| 1/1 [00:00<00:00,  9.55it/s, val_loss=1.97548854]\n",
      "Training Epoch [75/100]: 100%|█████████████████████████████████████████| 1/1 [00:00<00:00,  9.26it/s, curr_train_loss=0.00070871, val_loss=1.97548854]\n",
      "Validation Epoch [75/100]: 100%|███████████████████████████████████████████████████████████████████| 1/1 [00:00<00:00,  9.32it/s, val_loss=1.97697604]\n",
      "Training Epoch [76/100]: 100%|█████████████████████████████████████████| 1/1 [00:00<00:00,  9.19it/s, curr_train_loss=0.00068531, val_loss=1.97697604]\n",
      "Validation Epoch [76/100]: 100%|███████████████████████████████████████████████████████████████████| 1/1 [00:00<00:00,  9.32it/s, val_loss=1.97823811]\n",
      "Training Epoch [77/100]: 100%|█████████████████████████████████████████| 1/1 [00:00<00:00,  9.27it/s, curr_train_loss=0.00066362, val_loss=1.97823811]\n",
      "Validation Epoch [77/100]: 100%|███████████████████████████████████████████████████████████████████| 1/1 [00:00<00:00,  9.36it/s, val_loss=1.97932434]\n",
      "Training Epoch [78/100]: 100%|█████████████████████████████████████████| 1/1 [00:00<00:00,  9.07it/s, curr_train_loss=0.00064344, val_loss=1.97932434]\n",
      "Validation Epoch [78/100]: 100%|███████████████████████████████████████████████████████████████████| 1/1 [00:00<00:00,  9.31it/s, val_loss=1.98025656]\n",
      "Training Epoch [79/100]: 100%|█████████████████████████████████████████| 1/1 [00:00<00:00,  9.16it/s, curr_train_loss=0.00062472, val_loss=1.98025656]\n",
      "Validation Epoch [79/100]: 100%|███████████████████████████████████████████████████████████████████| 1/1 [00:00<00:00,  9.54it/s, val_loss=1.98107421]\n",
      "Training Epoch [80/100]: 100%|█████████████████████████████████████████| 1/1 [00:00<00:00,  9.16it/s, curr_train_loss=0.00060735, val_loss=1.98107421]\n",
      "Validation Epoch [80/100]: 100%|███████████████████████████████████████████████████████████████████| 1/1 [00:00<00:00,  9.59it/s, val_loss=1.98175764]\n",
      "Training Epoch [81/100]: 100%|█████████████████████████████████████████| 1/1 [00:00<00:00,  9.32it/s, curr_train_loss=0.00059122, val_loss=1.98175764]\n",
      "Validation Epoch [81/100]: 100%|███████████████████████████████████████████████████████████████████| 1/1 [00:00<00:00,  9.56it/s, val_loss=1.98233306]\n",
      "Training Epoch [82/100]: 100%|█████████████████████████████████████████| 1/1 [00:00<00:00,  9.20it/s, curr_train_loss=0.00057632, val_loss=1.98233306]\n",
      "Validation Epoch [82/100]: 100%|███████████████████████████████████████████████████████████████████| 1/1 [00:00<00:00,  9.67it/s, val_loss=1.98283923]\n",
      "Training Epoch [83/100]: 100%|█████████████████████████████████████████| 1/1 [00:00<00:00,  9.15it/s, curr_train_loss=0.00056247, val_loss=1.98283923]\n",
      "Validation Epoch [83/100]: 100%|███████████████████████████████████████████████████████████████████| 1/1 [00:00<00:00,  9.59it/s, val_loss=1.98326612]\n",
      "Training Epoch [84/100]: 100%|█████████████████████████████████████████| 1/1 [00:00<00:00,  9.11it/s, curr_train_loss=0.00054955, val_loss=1.98326612]\n",
      "Validation Epoch [84/100]: 100%|███████████████████████████████████████████████████████████████████| 1/1 [00:00<00:00,  9.33it/s, val_loss=1.98362315]\n",
      "Training Epoch [85/100]: 100%|█████████████████████████████████████████| 1/1 [00:00<00:00,  9.19it/s, curr_train_loss=0.00053744, val_loss=1.98362315]\n",
      "Validation Epoch [85/100]: 100%|███████████████████████████████████████████████████████████████████| 1/1 [00:00<00:00,  9.76it/s, val_loss=1.98393309]\n",
      "Training Epoch [86/100]: 100%|█████████████████████████████████████████| 1/1 [00:00<00:00,  9.17it/s, curr_train_loss=0.00052608, val_loss=1.98393309]\n",
      "Validation Epoch [86/100]: 100%|███████████████████████████████████████████████████████████████████| 1/1 [00:00<00:00,  9.49it/s, val_loss=1.98420954]\n",
      "Training Epoch [87/100]: 100%|█████████████████████████████████████████| 1/1 [00:00<00:00,  9.37it/s, curr_train_loss=0.00051537, val_loss=1.98420954]\n",
      "Validation Epoch [87/100]: 100%|███████████████████████████████████████████████████████████████████| 1/1 [00:00<00:00,  9.53it/s, val_loss=1.98444688]\n",
      "Training Epoch [88/100]: 100%|█████████████████████████████████████████| 1/1 [00:00<00:00,  9.26it/s, curr_train_loss=0.00050525, val_loss=1.98444688]\n",
      "Validation Epoch [88/100]: 100%|███████████████████████████████████████████████████████████████████| 1/1 [00:00<00:00,  9.30it/s, val_loss=1.98466563]\n",
      "Training Epoch [89/100]: 100%|█████████████████████████████████████████| 1/1 [00:00<00:00,  9.57it/s, curr_train_loss=0.00049566, val_loss=1.98466563]\n",
      "Validation Epoch [89/100]: 100%|███████████████████████████████████████████████████████████████████| 1/1 [00:00<00:00,  9.46it/s, val_loss=1.98489869]\n",
      "Training Epoch [90/100]: 100%|█████████████████████████████████████████| 1/1 [00:00<00:00,  9.39it/s, curr_train_loss=0.00048654, val_loss=1.98489869]\n",
      "Validation Epoch [90/100]: 100%|███████████████████████████████████████████████████████████████████| 1/1 [00:00<00:00,  9.49it/s, val_loss=1.98517215]\n",
      "Training Epoch [91/100]: 100%|█████████████████████████████████████████| 1/1 [00:00<00:00,  9.21it/s, curr_train_loss=0.00047789, val_loss=1.98517215]\n",
      "Validation Epoch [91/100]: 100%|███████████████████████████████████████████████████████████████████| 1/1 [00:00<00:00,  9.33it/s, val_loss=1.98550689]\n",
      "Training Epoch [92/100]: 100%|█████████████████████████████████████████| 1/1 [00:00<00:00,  9.25it/s, curr_train_loss=0.00046965, val_loss=1.98550689]\n",
      "Validation Epoch [92/100]: 100%|███████████████████████████████████████████████████████████████████| 1/1 [00:00<00:00,  9.31it/s, val_loss=1.98592997]\n",
      "Training Epoch [93/100]: 100%|█████████████████████████████████████████| 1/1 [00:00<00:00,  9.25it/s, curr_train_loss=0.00046181, val_loss=1.98592997]\n",
      "Validation Epoch [93/100]: 100%|███████████████████████████████████████████████████████████████████| 1/1 [00:00<00:00,  9.37it/s, val_loss=1.98644471]\n",
      "Training Epoch [94/100]: 100%|█████████████████████████████████████████| 1/1 [00:00<00:00,  9.44it/s, curr_train_loss=0.00045434, val_loss=1.98644471]\n",
      "Validation Epoch [94/100]: 100%|███████████████████████████████████████████████████████████████████| 1/1 [00:00<00:00,  9.32it/s, val_loss=1.98706055]\n",
      "Training Epoch [95/100]: 100%|█████████████████████████████████████████| 1/1 [00:00<00:00,  9.15it/s, curr_train_loss=0.00044719, val_loss=1.98706055]\n",
      "Validation Epoch [95/100]: 100%|███████████████████████████████████████████████████████████████████| 1/1 [00:00<00:00,  9.32it/s, val_loss=1.98777866]\n",
      "Training Epoch [96/100]: 100%|█████████████████████████████████████████| 1/1 [00:00<00:00,  9.24it/s, curr_train_loss=0.00044036, val_loss=1.98777866]\n",
      "Validation Epoch [96/100]: 100%|███████████████████████████████████████████████████████████████████| 1/1 [00:00<00:00,  9.40it/s, val_loss=1.98860395]\n",
      "Training Epoch [97/100]: 100%|█████████████████████████████████████████| 1/1 [00:00<00:00,  9.22it/s, curr_train_loss=0.00043381, val_loss=1.98860395]\n",
      "Validation Epoch [97/100]: 100%|███████████████████████████████████████████████████████████████████| 1/1 [00:00<00:00,  9.34it/s, val_loss=1.98952866]\n",
      "Training Epoch [98/100]: 100%|█████████████████████████████████████████| 1/1 [00:00<00:00,  9.25it/s, curr_train_loss=0.00042752, val_loss=1.98952866]\n",
      "Validation Epoch [98/100]: 100%|███████████████████████████████████████████████████████████████████| 1/1 [00:00<00:00,  9.64it/s, val_loss=1.99053681]\n",
      "Training Epoch [99/100]: 100%|█████████████████████████████████████████| 1/1 [00:00<00:00,  9.53it/s, curr_train_loss=0.00042148, val_loss=1.99053681]\n",
      "Validation Epoch [99/100]: 100%|███████████████████████████████████████████████████████████████████| 1/1 [00:00<00:00,  9.33it/s, val_loss=1.99157870]\n",
      "Training Epoch [100/100]: 100%|████████████████████████████████████████| 1/1 [00:00<00:00,  9.27it/s, curr_train_loss=0.00041565, val_loss=1.99157870]\n",
      "Validation Epoch [100/100]: 100%|██████████████████████████████████████████████████████████████████| 1/1 [00:00<00:00,  9.60it/s, val_loss=1.99263620]"
     ]
    },
    {
     "name": "stdout",
     "output_type": "stream",
     "text": [
      "Finished training!\n"
     ]
    },
    {
     "name": "stderr",
     "output_type": "stream",
     "text": [
      "\n"
     ]
    }
   ],
   "source": [
    "\n",
    "# Create a tensorboard logger.\n",
    "# NOTE: In order to see the logs, run the following command in the terminal: tensorboard --logdir=./\n",
    "# Also, in order to reset the logs, delete the logs folder MANUALLY.\n",
    "# Pay attention that if you run this cell mutltiple times, the pretrained_encoder\n",
    "# is not reset, and will keep training from where it stopped. Thus, it could overfit.\n",
    "\n",
    "path = os.path.join('logs', 'pretrained_cls_logs')\n",
    "num_of_runs = len(os.listdir(path)) if os.path.exists(path) else 0\n",
    "path = os.path.join(path, f'run_{num_of_runs + 1}')\n",
    "tb_logger = SummaryWriter(path)\n",
    "\n",
    "batch_size = hparams.get('batch_size', 16)\n",
    "labled_train_loader = torch.utils.data.DataLoader(train_100_dataset, batch_size=batch_size, shuffle=True)\n",
    "labled_val_loader = torch.utils.data.DataLoader(val_100_dataset, batch_size=batch_size, shuffle=False)\n",
    "\n",
    "epochs = hparams.get('epochs', 20)\n",
    "loss_func = nn.CrossEntropyLoss() # The loss function we use for classification.\n",
    "train_classifier(classifier_pretrained, labled_train_loader, labled_val_loader, loss_func, tb_logger, epochs=epochs, name='Pretrained')\n",
    "\n",
    "print(\"Finished training!\") "
   ]
  },
  {
   "attachments": {},
   "cell_type": "markdown",
   "metadata": {
    "id": "H-pm1MY_MNks"
   },
   "source": [
    "Let's have a look at the validation accuracy of the two different classifiers and compare them. And don't forget that you can also monitor your training in TensorBoard.\n",
    "\n",
    "We will only look at the test accuracy and compare our two classifiers with respect to that in the very end."
   ]
  },
  {
   "cell_type": "code",
   "execution_count": 17,
   "metadata": {
    "id": "-e5Bd9KLMNkt"
   },
   "outputs": [
    {
     "name": "stdout",
     "output_type": "stream",
     "text": [
      "Validation accuracy when training from scratch: \u001b[91m12.0\u001b[0m%\n",
      "Validation accuracy with pretraining: \u001b[92m69.0\u001b[0m%\n"
     ]
    }
   ],
   "source": [
    "val_acc_scracth = classifier.getAcc(labled_val_loader)[1]*100\n",
    "color = 'green' if val_acc_scracth > 55 else 'red'\n",
    "print(f\"Validation accuracy when training from scratch: {bcolors.colorize(color, val_acc_scracth)}%\")\n",
    "\n",
    "val_acc_pretrained = classifier_pretrained.getAcc(labled_val_loader)[1]*100\n",
    "color = 'green' if val_acc_pretrained > 55 else 'red'\n",
    "print(f\"Validation accuracy with pretraining: {bcolors.colorize(color, val_acc_pretrained)}%\")\n",
    "\n",
    "\n"
   ]
  },
  {
   "attachments": {},
   "cell_type": "markdown",
   "metadata": {
    "id": "zAp2OTyf4_5b"
   },
   "source": [
    "Now that everything is working, feel free to play around with different architectures. As you've seen, it's quite easy to define your model or do adpations there.\n",
    "\n",
    "To pass this submission, you will need to achieve an accuracy of **55%**."
   ]
  },
  {
   "attachments": {},
   "cell_type": "markdown",
   "metadata": {
    "id": "OmEYmRT-5S-e"
   },
   "source": [
    "# Save your model & Report Test Accuracy\n",
    "\n",
    "When you are finally done with your **hyperparameter tuning**, achieved **at least 55% validation accuracy** and are happy with your final model, you can save it here.\n",
    "\n",
    "Before that, please check again whether the number of parameters is below 5 Mio and the file size is below 20 MB.\n",
    "\n",
    "Once your final model is saved, we'll finally report the test accuracy."
   ]
  },
  {
   "cell_type": "code",
   "execution_count": 18,
   "metadata": {
    "id": "S69ETKxD5TcE"
   },
   "outputs": [
    {
     "name": "stdout",
     "output_type": "stream",
     "text": [
      "Test accuracy when training from scratch: \u001b[91m16.0\u001b[0m%\n",
      "Test accuracy with pretraining: \u001b[92m70.0\u001b[0m%\n",
      "Validation Accuracy: \u001b[92m69.0\u001b[0m%\n",
      "# Paramters: Your model has \u001b[92m0.14\u001b[0m mio. params.\n",
      "Size: Great! Your model size is \u001b[92m1.0\u001b[0m MB and is less than 20 MB.\n",
      "Your model has been saved and is ready to be submitted.\n"
     ]
    }
   ],
   "source": [
    "from exercise_code.Util import test_and_save\n",
    "test_dl = torch.utils.data.DataLoader(test_100_dataset, batch_size=4, shuffle=False)\n",
    "\n",
    "test_acc = classifier.getAcc(test_dl)[1]*100\n",
    "color = 'green' if test_acc > 55 else 'red'\n",
    "print(f\"Test accuracy when training from scratch: {bcolors.colorize(color, test_acc)}%\")\n",
    "\n",
    "test_acc = classifier_pretrained.getAcc(test_dl)[1]*100\n",
    "color = 'green' if test_acc > 55 else 'red'\n",
    "print(f\"Test accuracy with pretraining: {bcolors.colorize(color, test_acc)}%\")\n",
    "\n",
    "test_and_save(classifier_pretrained, labled_val_loader, test_dl)"
   ]
  },
  {
   "cell_type": "code",
   "execution_count": 19,
   "metadata": {
    "id": "enZCnGL6MNkt"
   },
   "outputs": [
    {
     "name": "stdout",
     "output_type": "stream",
     "text": [
      "relevant folders: ['exercise_code', 'models']\n",
      "notebooks files: ['1_Autoencoder.ipynb', 'Optional-BatchNormalization_Dropout.ipynb']\n",
      "Adding folder exercise_code\n",
      "Adding folder models\n",
      "Adding notebook 1_Autoencoder.ipynb\n",
      "Adding notebook Optional-BatchNormalization_Dropout.ipynb\n",
      "Zipping successful! Zip is stored under: /Users/hsuwenshuo/Documents/TUM/I2DL/exercises/output/exercise_08.zip\n"
     ]
    }
   ],
   "source": [
    "# Now zip the folder for upload\n",
    "from exercise_code.submit import submit_exercise\n",
    "\n",
    "submit_exercise('../output/exercise_08')"
   ]
  },
  {
   "attachments": {},
   "cell_type": "markdown",
   "metadata": {
    "id": "7fuo3Tf9MNku",
    "pycharm": {
     "name": "#%% md\n"
    }
   },
   "source": [
    "Congratulations on completing your first autoencoder and successfully transferring the weights to a classifier! It's remarkable how much easier this process becomes with the power of PyTorch, compared to working with plain NumPy, right?\n",
    "\n",
    "To complete the exercise, please submit your final model to [our submission portal](https://i2dl.vc.in.tum.de/) - you should be already familiar with the submission procedure. Next, it is time to get started with some more complex neural networks and tasks in the upcoming exercises. See you next week!\n",
    "\n",
    "# Submission Goals\n",
    "\n",
    "- Goal: Successfully implement a fully connected autoencoder for MNIST with Pytorch and transfer the encoder weights to a classifier.\n",
    "\n",
    "- Passing Criteria: There are no unit tests that check specific components of your code. The only thing that's required to pass the submission, is your model to reach at least **55% accuracy** on __our__ test dataset. The submission system will show you a number between 0 and 100 which corresponds to your accuracy.\n",
    "\n",
    "\n",
    "- You can make **$\\infty$** submissions until the deadline. Your __best submission__ will be considered for the bonus."
   ]
  }
 ],
 "metadata": {
  "accelerator": "GPU",
  "colab": {
   "provenance": []
  },
  "kernelspec": {
   "display_name": "Python 3",
   "language": "python",
   "name": "python3"
  },
  "language_info": {
   "codemirror_mode": {
    "name": "ipython",
    "version": 3
   },
   "file_extension": ".py",
   "mimetype": "text/x-python",
   "name": "python",
   "nbconvert_exporter": "python",
   "pygments_lexer": "ipython3",
   "version": "3.10.14"
  },
  "vscode": {
   "interpreter": {
    "hash": "54970da6898dad277dbf355945c2dee7f942d2a31ec1fc1455b6d4f552d07b83"
   }
  }
 },
 "nbformat": 4,
 "nbformat_minor": 1
}
